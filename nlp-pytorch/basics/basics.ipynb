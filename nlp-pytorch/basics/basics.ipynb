{
 "cells": [
  {
   "cell_type": "code",
   "execution_count": 1,
   "id": "pregnant-harvard",
   "metadata": {},
   "outputs": [],
   "source": [
    "import torch\n",
    "import numpy as np"
   ]
  },
  {
   "cell_type": "markdown",
   "id": "developed-bolivia",
   "metadata": {},
   "source": [
    "## Creating Tensors"
   ]
  },
  {
   "cell_type": "code",
   "execution_count": 2,
   "id": "miniature-headset",
   "metadata": {},
   "outputs": [],
   "source": [
    "def describe(x):\n",
    "    print(\"type: {}\".format(x.type()))\n",
    "    print(\"shape: {}\".format(x.shape))\n",
    "    print(\"content: \\n{}\".format(x))"
   ]
  },
  {
   "cell_type": "markdown",
   "id": "considered-pitch",
   "metadata": {},
   "source": [
    "#### Create a tensor with torch.Tensor"
   ]
  },
  {
   "cell_type": "code",
   "execution_count": 3,
   "id": "ambient-approach",
   "metadata": {},
   "outputs": [
    {
     "name": "stdout",
     "output_type": "stream",
     "text": [
      "type: torch.FloatTensor\n",
      "shape: torch.Size([2, 3])\n",
      "content: \n",
      "tensor([[8.4078e-45, 0.0000e+00, 0.0000e+00],\n",
      "        [0.0000e+00, 0.0000e+00, 0.0000e+00]])\n"
     ]
    }
   ],
   "source": [
    "describe(torch.Tensor(2, 3))"
   ]
  },
  {
   "cell_type": "markdown",
   "id": "comic-review",
   "metadata": {},
   "source": [
    "#### Create a randomly initialized tensor"
   ]
  },
  {
   "cell_type": "code",
   "execution_count": 4,
   "id": "danish-spanish",
   "metadata": {},
   "outputs": [
    {
     "name": "stdout",
     "output_type": "stream",
     "text": [
      "type: torch.FloatTensor\n",
      "shape: torch.Size([2, 3])\n",
      "content: \n",
      "tensor([[0.0810, 0.1307, 0.4261],\n",
      "        [0.4230, 0.2179, 0.8323]])\n"
     ]
    }
   ],
   "source": [
    "describe(torch.rand(2, 3)) # uniform random between [0, 1)"
   ]
  },
  {
   "cell_type": "code",
   "execution_count": 5,
   "id": "ultimate-enhancement",
   "metadata": {},
   "outputs": [
    {
     "name": "stdout",
     "output_type": "stream",
     "text": [
      "type: torch.FloatTensor\n",
      "shape: torch.Size([2, 3])\n",
      "content: \n",
      "tensor([[-0.4717, -1.5356,  0.0335],\n",
      "        [-0.2793,  0.6591, -1.9797]])\n"
     ]
    }
   ],
   "source": [
    "describe(torch.randn(2, 3)) # random normal"
   ]
  },
  {
   "cell_type": "markdown",
   "id": "daily-northeast",
   "metadata": {},
   "source": [
    "#### Create a filled tensor\n",
    "- Any PyTorch method with an underscore (_) refers to an in-place operation."
   ]
  },
  {
   "cell_type": "code",
   "execution_count": 6,
   "id": "independent-ghost",
   "metadata": {},
   "outputs": [
    {
     "name": "stdout",
     "output_type": "stream",
     "text": [
      "type: torch.FloatTensor\n",
      "shape: torch.Size([2, 3])\n",
      "content: \n",
      "tensor([[0., 0., 0.],\n",
      "        [0., 0., 0.]])\n",
      "type: torch.FloatTensor\n",
      "shape: torch.Size([2, 3])\n",
      "content: \n",
      "tensor([[1., 1., 1.],\n",
      "        [1., 1., 1.]])\n",
      "type: torch.FloatTensor\n",
      "shape: torch.Size([2, 3])\n",
      "content: \n",
      "tensor([[5., 5., 5.],\n",
      "        [5., 5., 5.]])\n"
     ]
    }
   ],
   "source": [
    "describe(torch.zeros(2, 3))\n",
    "x = torch.ones(2, 3)\n",
    "describe(x)\n",
    "x.fill_(5)\n",
    "describe(x)"
   ]
  },
  {
   "cell_type": "markdown",
   "id": "casual-fault",
   "metadata": {},
   "source": [
    "#### Create a tensor declaratively by using Python lists"
   ]
  },
  {
   "cell_type": "code",
   "execution_count": 7,
   "id": "confident-integral",
   "metadata": {},
   "outputs": [
    {
     "name": "stdout",
     "output_type": "stream",
     "text": [
      "type: torch.FloatTensor\n",
      "shape: torch.Size([2, 3])\n",
      "content: \n",
      "tensor([[1., 2., 3.],\n",
      "        [4., 5., 6.]])\n"
     ]
    }
   ],
   "source": [
    "x = torch.Tensor([[1, 2, 3], [4, 5, 6]])\n",
    "describe(x)"
   ]
  },
  {
   "cell_type": "markdown",
   "id": "organizational-mayor",
   "metadata": {},
   "source": [
    "#### Create a tensor from NumPy\n",
    "- The type of the tensor is DoubleTensor instead of the default FloatTensor.\n",
    "- The ability to convert between NumPy arrays and PyTorch tensors becomes important when working with legacy libraries that use NumPy-formatted numerical values."
   ]
  },
  {
   "cell_type": "code",
   "execution_count": 8,
   "id": "printable-jackson",
   "metadata": {},
   "outputs": [
    {
     "name": "stdout",
     "output_type": "stream",
     "text": [
      "type: torch.DoubleTensor\n",
      "shape: torch.Size([2, 3])\n",
      "content: \n",
      "tensor([[0.0464, 0.4950, 0.2597],\n",
      "        [0.4928, 0.3608, 0.7874]], dtype=torch.float64)\n"
     ]
    }
   ],
   "source": [
    "x_npy = np.random.rand(2, 3)\n",
    "describe(torch.from_numpy(x_npy))"
   ]
  },
  {
   "cell_type": "markdown",
   "id": "false-instrumentation",
   "metadata": {},
   "source": [
    "## Tensor Types and Size"
   ]
  },
  {
   "cell_type": "code",
   "execution_count": 9,
   "id": "intended-raleigh",
   "metadata": {},
   "outputs": [
    {
     "name": "stdout",
     "output_type": "stream",
     "text": [
      "type: torch.FloatTensor\n",
      "shape: torch.Size([2, 3])\n",
      "content: \n",
      "tensor([[1., 2., 3.],\n",
      "        [4., 5., 6.]])\n"
     ]
    }
   ],
   "source": [
    "x = torch.FloatTensor([[1, 2, 3], [4, 5, 6]])\n",
    "describe(x)"
   ]
  },
  {
   "cell_type": "code",
   "execution_count": 10,
   "id": "little-audit",
   "metadata": {},
   "outputs": [
    {
     "name": "stdout",
     "output_type": "stream",
     "text": [
      "type: torch.LongTensor\n",
      "shape: torch.Size([2, 3])\n",
      "content: \n",
      "tensor([[1, 2, 3],\n",
      "        [4, 5, 6]])\n"
     ]
    }
   ],
   "source": [
    "x = x.long()\n",
    "describe(x)"
   ]
  },
  {
   "cell_type": "code",
   "execution_count": 11,
   "id": "skilled-ability",
   "metadata": {},
   "outputs": [
    {
     "name": "stdout",
     "output_type": "stream",
     "text": [
      "type: torch.LongTensor\n",
      "shape: torch.Size([2, 3])\n",
      "content: \n",
      "tensor([[1, 2, 3],\n",
      "        [4, 5, 6]])\n"
     ]
    }
   ],
   "source": [
    "# this is different from torch.Tensor() above.\n",
    "x = torch.tensor([[1, 2, 3], [4, 5, 6]], dtype=torch.int64)\n",
    "describe(x)"
   ]
  },
  {
   "cell_type": "code",
   "execution_count": 12,
   "id": "bulgarian-calgary",
   "metadata": {},
   "outputs": [
    {
     "name": "stdout",
     "output_type": "stream",
     "text": [
      "type: torch.FloatTensor\n",
      "shape: torch.Size([2, 3])\n",
      "content: \n",
      "tensor([[1., 2., 3.],\n",
      "        [4., 5., 6.]])\n"
     ]
    }
   ],
   "source": [
    "x = x.float()\n",
    "describe(x)"
   ]
  },
  {
   "cell_type": "markdown",
   "id": "bigger-bermuda",
   "metadata": {},
   "source": [
    "## Tensor Operations"
   ]
  },
  {
   "cell_type": "markdown",
   "id": "resistant-capacity",
   "metadata": {},
   "source": [
    "#### Tensor addition"
   ]
  },
  {
   "cell_type": "code",
   "execution_count": 13,
   "id": "settled-planet",
   "metadata": {},
   "outputs": [
    {
     "name": "stdout",
     "output_type": "stream",
     "text": [
      "type: torch.FloatTensor\n",
      "shape: torch.Size([2, 3])\n",
      "content: \n",
      "tensor([[-0.5402,  1.0138,  1.0676],\n",
      "        [-0.1057,  1.3151,  2.3039]])\n",
      "type: torch.FloatTensor\n",
      "shape: torch.Size([2, 3])\n",
      "content: \n",
      "tensor([[-1.0804,  2.0277,  2.1352],\n",
      "        [-0.2113,  2.6302,  4.6079]])\n"
     ]
    }
   ],
   "source": [
    "x = torch.randn(2, 3)\n",
    "describe(x)\n",
    "describe(torch.add(x, x))"
   ]
  },
  {
   "cell_type": "code",
   "execution_count": 14,
   "id": "lesbian-officer",
   "metadata": {},
   "outputs": [
    {
     "name": "stdout",
     "output_type": "stream",
     "text": [
      "type: torch.FloatTensor\n",
      "shape: torch.Size([2, 3])\n",
      "content: \n",
      "tensor([[-1.0804,  2.0277,  2.1352],\n",
      "        [-0.2113,  2.6302,  4.6079]])\n"
     ]
    }
   ],
   "source": [
    "describe(x + x)"
   ]
  },
  {
   "cell_type": "markdown",
   "id": "temporal-disability",
   "metadata": {},
   "source": [
    "#### Dimension-based tensor operations"
   ]
  },
  {
   "cell_type": "code",
   "execution_count": 15,
   "id": "understanding-discharge",
   "metadata": {},
   "outputs": [
    {
     "name": "stdout",
     "output_type": "stream",
     "text": [
      "type: torch.LongTensor\n",
      "shape: torch.Size([6])\n",
      "content: \n",
      "tensor([0, 1, 2, 3, 4, 5])\n"
     ]
    }
   ],
   "source": [
    "x = torch.arange(6)\n",
    "describe(x)"
   ]
  },
  {
   "cell_type": "code",
   "execution_count": 16,
   "id": "protective-cartridge",
   "metadata": {},
   "outputs": [
    {
     "name": "stdout",
     "output_type": "stream",
     "text": [
      "type: torch.LongTensor\n",
      "shape: torch.Size([2, 3])\n",
      "content: \n",
      "tensor([[0, 1, 2],\n",
      "        [3, 4, 5]])\n"
     ]
    }
   ],
   "source": [
    "x = x.view(2, 3)\n",
    "describe(x)"
   ]
  },
  {
   "cell_type": "code",
   "execution_count": 17,
   "id": "surrounded-impression",
   "metadata": {},
   "outputs": [
    {
     "name": "stdout",
     "output_type": "stream",
     "text": [
      "type: torch.LongTensor\n",
      "shape: torch.Size([3])\n",
      "content: \n",
      "tensor([3, 5, 7])\n"
     ]
    }
   ],
   "source": [
    "describe(torch.sum(x, dim=0)) # similar to axis=0 in NumPy operation"
   ]
  },
  {
   "cell_type": "code",
   "execution_count": 18,
   "id": "dangerous-scale",
   "metadata": {},
   "outputs": [
    {
     "name": "stdout",
     "output_type": "stream",
     "text": [
      "type: torch.LongTensor\n",
      "shape: torch.Size([2])\n",
      "content: \n",
      "tensor([ 3, 12])\n"
     ]
    }
   ],
   "source": [
    "describe(torch.sum(x, dim=1)) # similar to axis=1 in NumPy operation"
   ]
  },
  {
   "cell_type": "code",
   "execution_count": 19,
   "id": "hindu-blake",
   "metadata": {},
   "outputs": [
    {
     "name": "stdout",
     "output_type": "stream",
     "text": [
      "type: torch.LongTensor\n",
      "shape: torch.Size([3, 2])\n",
      "content: \n",
      "tensor([[0, 3],\n",
      "        [1, 4],\n",
      "        [2, 5]])\n"
     ]
    }
   ],
   "source": [
    "describe(torch.transpose(x, 0, 1))"
   ]
  },
  {
   "cell_type": "markdown",
   "id": "trained-cyprus",
   "metadata": {},
   "source": [
    "A 3D tensor would represent a batch of sequences, where each sequence item has a feature vector. It is common to switch the batch and sequence dimensions so that we can more easily index the sequence in a sequence model.\n",
    "\n",
    "Note: Tranpose allows us to only swap 2 axes. Permutate allows for multiple axes."
   ]
  },
  {
   "cell_type": "markdown",
   "id": "stone-triumph",
   "metadata": {},
   "source": [
    "## Indexing, Slicing, and Joining"
   ]
  },
  {
   "cell_type": "markdown",
   "id": "engaged-gateway",
   "metadata": {},
   "source": [
    "#### Slicing and indexing a tensor"
   ]
  },
  {
   "cell_type": "code",
   "execution_count": 20,
   "id": "resident-prayer",
   "metadata": {},
   "outputs": [
    {
     "name": "stdout",
     "output_type": "stream",
     "text": [
      "type: torch.LongTensor\n",
      "shape: torch.Size([2, 3])\n",
      "content: \n",
      "tensor([[0, 1, 2],\n",
      "        [3, 4, 5]])\n"
     ]
    }
   ],
   "source": [
    "x = torch.arange(6).view(2, 3)\n",
    "describe(x)"
   ]
  },
  {
   "cell_type": "code",
   "execution_count": 21,
   "id": "recovered-corporation",
   "metadata": {},
   "outputs": [
    {
     "name": "stdout",
     "output_type": "stream",
     "text": [
      "type: torch.LongTensor\n",
      "shape: torch.Size([1, 2])\n",
      "content: \n",
      "tensor([[0, 1]])\n"
     ]
    }
   ],
   "source": [
    "describe(x[:1, :2])"
   ]
  },
  {
   "cell_type": "code",
   "execution_count": 22,
   "id": "careful-reception",
   "metadata": {},
   "outputs": [
    {
     "name": "stdout",
     "output_type": "stream",
     "text": [
      "type: torch.LongTensor\n",
      "shape: torch.Size([])\n",
      "content: \n",
      "1\n"
     ]
    }
   ],
   "source": [
    "describe(x[0, 1])"
   ]
  },
  {
   "cell_type": "markdown",
   "id": "sixth-savings",
   "metadata": {},
   "source": [
    "#### Complex indexing: noncontiguous indexing\n",
    "- Indices need to be a LongTensor for indexing using PyTorch functions."
   ]
  },
  {
   "cell_type": "code",
   "execution_count": 23,
   "id": "surprised-latino",
   "metadata": {},
   "outputs": [
    {
     "name": "stdout",
     "output_type": "stream",
     "text": [
      "type: torch.LongTensor\n",
      "shape: torch.Size([2, 2])\n",
      "content: \n",
      "tensor([[0, 2],\n",
      "        [3, 5]])\n"
     ]
    }
   ],
   "source": [
    "indices = torch.LongTensor([0, 2])\n",
    "describe(torch.index_select(x, dim=1, index=indices))"
   ]
  },
  {
   "cell_type": "code",
   "execution_count": 24,
   "id": "encouraging-contrast",
   "metadata": {},
   "outputs": [
    {
     "name": "stdout",
     "output_type": "stream",
     "text": [
      "type: torch.LongTensor\n",
      "shape: torch.Size([2, 3])\n",
      "content: \n",
      "tensor([[0, 1, 2],\n",
      "        [0, 1, 2]])\n"
     ]
    }
   ],
   "source": [
    "indices = torch.LongTensor([0, 0])\n",
    "describe(torch.index_select(x, dim=0, index=indices))"
   ]
  },
  {
   "cell_type": "code",
   "execution_count": 25,
   "id": "humanitarian-knock",
   "metadata": {},
   "outputs": [
    {
     "name": "stdout",
     "output_type": "stream",
     "text": [
      "type: torch.LongTensor\n",
      "shape: torch.Size([2])\n",
      "content: \n",
      "tensor([0, 4])\n"
     ]
    }
   ],
   "source": [
    "row_indices = torch.arange(2).long()\n",
    "col_indices = torch.LongTensor([0, 1])\n",
    "describe(x[row_indices, col_indices])"
   ]
  },
  {
   "cell_type": "markdown",
   "id": "innovative-colleague",
   "metadata": {},
   "source": [
    "#### Concatenating tensors"
   ]
  },
  {
   "cell_type": "code",
   "execution_count": 26,
   "id": "hidden-daily",
   "metadata": {},
   "outputs": [
    {
     "name": "stdout",
     "output_type": "stream",
     "text": [
      "type: torch.LongTensor\n",
      "shape: torch.Size([2, 3])\n",
      "content: \n",
      "tensor([[0, 1, 2],\n",
      "        [3, 4, 5]])\n"
     ]
    }
   ],
   "source": [
    "x = torch.arange(6).view(2, 3)\n",
    "describe(x)"
   ]
  },
  {
   "cell_type": "code",
   "execution_count": 27,
   "id": "spare-franchise",
   "metadata": {},
   "outputs": [
    {
     "name": "stdout",
     "output_type": "stream",
     "text": [
      "type: torch.LongTensor\n",
      "shape: torch.Size([2, 6])\n",
      "content: \n",
      "tensor([[0, 1, 2, 0, 1, 2],\n",
      "        [3, 4, 5, 3, 4, 5]])\n"
     ]
    }
   ],
   "source": [
    "describe(torch.cat([x, x], dim=1))"
   ]
  },
  {
   "cell_type": "code",
   "execution_count": 28,
   "id": "federal-container",
   "metadata": {},
   "outputs": [
    {
     "name": "stdout",
     "output_type": "stream",
     "text": [
      "type: torch.LongTensor\n",
      "shape: torch.Size([2, 2, 3])\n",
      "content: \n",
      "tensor([[[0, 1, 2],\n",
      "         [3, 4, 5]],\n",
      "\n",
      "        [[0, 1, 2],\n",
      "         [3, 4, 5]]])\n"
     ]
    }
   ],
   "source": [
    "describe(torch.stack([x, x]))"
   ]
  },
  {
   "cell_type": "markdown",
   "id": "incorporate-nashville",
   "metadata": {},
   "source": [
    "#### Linear algebra on tensors: multiplication"
   ]
  },
  {
   "cell_type": "code",
   "execution_count": 29,
   "id": "wicked-disclaimer",
   "metadata": {},
   "outputs": [
    {
     "name": "stdout",
     "output_type": "stream",
     "text": [
      "type: torch.FloatTensor\n",
      "shape: torch.Size([2, 3])\n",
      "content: \n",
      "tensor([[0., 1., 2.],\n",
      "        [3., 4., 5.]])\n"
     ]
    }
   ],
   "source": [
    "x1 = torch.arange(6).view(2, 3)\n",
    "x1 = x1.float()\n",
    "describe(x1)"
   ]
  },
  {
   "cell_type": "code",
   "execution_count": 30,
   "id": "divided-bracket",
   "metadata": {},
   "outputs": [
    {
     "name": "stdout",
     "output_type": "stream",
     "text": [
      "type: torch.FloatTensor\n",
      "shape: torch.Size([3, 2])\n",
      "content: \n",
      "tensor([[1., 2.],\n",
      "        [1., 2.],\n",
      "        [1., 2.]])\n"
     ]
    }
   ],
   "source": [
    "x2 = torch.ones(3, 2)\n",
    "x2[:, 1] += 1\n",
    "# x2 = x2.float()\n",
    "describe(x2)"
   ]
  },
  {
   "cell_type": "code",
   "execution_count": 31,
   "id": "prescription-belarus",
   "metadata": {},
   "outputs": [
    {
     "name": "stdout",
     "output_type": "stream",
     "text": [
      "type: torch.FloatTensor\n",
      "shape: torch.Size([2, 2])\n",
      "content: \n",
      "tensor([[ 3.,  6.],\n",
      "        [12., 24.]])\n"
     ]
    }
   ],
   "source": [
    "describe(torch.mm(x1, x2))"
   ]
  },
  {
   "cell_type": "markdown",
   "id": "alive-safety",
   "metadata": {},
   "source": [
    "## Tensors and Computational Graphs\n",
    "\n",
    "- PyTorch tensors handle the bookkeeping needed for building computational graphs for machine learning simply by enabling a Boolean flag at instantiation time.\n",
    "- PyTorch tensor class encapsulates the data (the tensor itself) and a range of operations.\n",
    "- When the **requires_grad** Boolean flag is set to **True** on a tensor, bookkeeping operations are enabled that can track the gradient at the tensor as well as the gradient function, both of which are needed to facilitate the gradient-based learning."
   ]
  },
  {
   "cell_type": "markdown",
   "id": "canadian-native",
   "metadata": {},
   "source": [
    "#### Creating tensors for gradient bookkeeping"
   ]
  },
  {
   "cell_type": "code",
   "execution_count": 32,
   "id": "faced-innocent",
   "metadata": {},
   "outputs": [
    {
     "name": "stdout",
     "output_type": "stream",
     "text": [
      "type: torch.FloatTensor\n",
      "shape: torch.Size([2, 2])\n",
      "content: \n",
      "tensor([[1., 1.],\n",
      "        [1., 1.]], requires_grad=True)\n",
      "True\n"
     ]
    }
   ],
   "source": [
    "x = torch.ones(2, 2, requires_grad=True)\n",
    "describe(x)\n",
    "print(x.grad is None)"
   ]
  },
  {
   "cell_type": "code",
   "execution_count": 33,
   "id": "structural-webster",
   "metadata": {},
   "outputs": [
    {
     "name": "stdout",
     "output_type": "stream",
     "text": [
      "type: torch.FloatTensor\n",
      "shape: torch.Size([2, 2])\n",
      "content: \n",
      "tensor([[21., 21.],\n",
      "        [21., 21.]], grad_fn=<AddBackward0>)\n",
      "True\n"
     ]
    }
   ],
   "source": [
    "y = (x + 2) * (x + 5) + 3\n",
    "describe(y)\n",
    "print(x.grad is None)"
   ]
  },
  {
   "cell_type": "code",
   "execution_count": 34,
   "id": "documented-cheese",
   "metadata": {},
   "outputs": [
    {
     "name": "stdout",
     "output_type": "stream",
     "text": [
      "type: torch.FloatTensor\n",
      "shape: torch.Size([])\n",
      "content: \n",
      "21.0\n",
      "False\n"
     ]
    }
   ],
   "source": [
    "# Let's say this is a loss function\n",
    "z = y.mean()\n",
    "describe(z)\n",
    "z.backward()\n",
    "print(x.grad is None)"
   ]
  },
  {
   "cell_type": "code",
   "execution_count": 35,
   "id": "deluxe-ridge",
   "metadata": {},
   "outputs": [
    {
     "data": {
      "text/plain": [
       "tensor([[2.2500, 2.2500],\n",
       "        [2.2500, 2.2500]])"
      ]
     },
     "execution_count": 35,
     "metadata": {},
     "output_type": "execute_result"
    }
   ],
   "source": [
    "x.grad"
   ]
  },
  {
   "cell_type": "markdown",
   "id": "spoken-cartoon",
   "metadata": {},
   "source": [
    "## Exercises"
   ]
  },
  {
   "cell_type": "markdown",
   "id": "incredible-flour",
   "metadata": {},
   "source": [
    "1. Create a 2D tensor and then add a dimension of size 1 inserted at dimension 0."
   ]
  },
  {
   "cell_type": "code",
   "execution_count": 36,
   "id": "early-narrow",
   "metadata": {},
   "outputs": [
    {
     "name": "stdout",
     "output_type": "stream",
     "text": [
      "type: torch.FloatTensor\n",
      "shape: torch.Size([3, 3])\n",
      "content: \n",
      "tensor([[0.8363, 0.9310, 0.0765],\n",
      "        [0.1962, 0.6418, 0.7437],\n",
      "        [0.1437, 0.6700, 0.3494]])\n",
      "type: torch.FloatTensor\n",
      "shape: torch.Size([1, 3, 3])\n",
      "content: \n",
      "tensor([[[0.8363, 0.9310, 0.0765],\n",
      "         [0.1962, 0.6418, 0.7437],\n",
      "         [0.1437, 0.6700, 0.3494]]])\n"
     ]
    }
   ],
   "source": [
    "x = torch.rand(3, 3)\n",
    "describe(x)\n",
    "x = x.unsqueeze(0)\n",
    "describe(x)"
   ]
  },
  {
   "cell_type": "markdown",
   "id": "guided-charm",
   "metadata": {},
   "source": [
    "2. Remove the extra dimension we just added to the previous tensor."
   ]
  },
  {
   "cell_type": "code",
   "execution_count": 37,
   "id": "funky-repository",
   "metadata": {},
   "outputs": [
    {
     "name": "stdout",
     "output_type": "stream",
     "text": [
      "type: torch.FloatTensor\n",
      "shape: torch.Size([3, 3])\n",
      "content: \n",
      "tensor([[0.8363, 0.9310, 0.0765],\n",
      "        [0.1962, 0.6418, 0.7437],\n",
      "        [0.1437, 0.6700, 0.3494]])\n"
     ]
    }
   ],
   "source": [
    "x = x.squeeze(0)\n",
    "describe(x)"
   ]
  },
  {
   "cell_type": "markdown",
   "id": "organized-married",
   "metadata": {},
   "source": [
    "3. Create a random tensor of shape 5 x 3 in the interval [3, 7)."
   ]
  },
  {
   "cell_type": "code",
   "execution_count": 38,
   "id": "dimensional-external",
   "metadata": {},
   "outputs": [
    {
     "data": {
      "text/plain": [
       "tensor([[4.9454, 3.7489, 3.7832],\n",
       "        [6.6856, 6.5091, 5.1139],\n",
       "        [5.1984, 5.6410, 5.0503],\n",
       "        [4.7292, 3.7878, 3.0977],\n",
       "        [5.0333, 3.8287, 4.0390]])"
      ]
     },
     "execution_count": 38,
     "metadata": {},
     "output_type": "execute_result"
    }
   ],
   "source": [
    "3 + torch.rand(5, 3) * (7 - 3)"
   ]
  },
  {
   "cell_type": "markdown",
   "id": "minus-bouquet",
   "metadata": {},
   "source": [
    "4. Create a tensor with values from a normal distribution (mean=0, std=1)."
   ]
  },
  {
   "cell_type": "code",
   "execution_count": 39,
   "id": "educational-skiing",
   "metadata": {},
   "outputs": [
    {
     "data": {
      "text/plain": [
       "tensor([[ 0.1755,  1.3824, -0.2178],\n",
       "        [-0.2999, -0.4550, -0.2023],\n",
       "        [ 0.7118,  0.4847, -1.2757]])"
      ]
     },
     "execution_count": 39,
     "metadata": {},
     "output_type": "execute_result"
    }
   ],
   "source": [
    "torch.randn(3, 3)"
   ]
  },
  {
   "cell_type": "code",
   "execution_count": 40,
   "id": "medical-living",
   "metadata": {},
   "outputs": [
    {
     "data": {
      "text/plain": [
       "tensor([[ 0.8629,  0.7376, -2.5209],\n",
       "        [ 0.9190,  0.3909,  1.4394],\n",
       "        [-0.1803,  0.4218,  0.5273]])"
      ]
     },
     "execution_count": 40,
     "metadata": {},
     "output_type": "execute_result"
    }
   ],
   "source": [
    "x = torch.rand(3, 3)\n",
    "x.normal_()"
   ]
  },
  {
   "cell_type": "markdown",
   "id": "diverse-detroit",
   "metadata": {},
   "source": [
    "5. Retrieve the indexes of all the nonzero elements in the tensor torch.Tensor([1, 1, 1, 0, 1])."
   ]
  },
  {
   "cell_type": "code",
   "execution_count": 41,
   "id": "listed-certificate",
   "metadata": {},
   "outputs": [
    {
     "data": {
      "text/plain": [
       "tensor([[0],\n",
       "        [1],\n",
       "        [2],\n",
       "        [4]])"
      ]
     },
     "execution_count": 41,
     "metadata": {},
     "output_type": "execute_result"
    }
   ],
   "source": [
    "x = torch.Tensor([1, 1, 1, 0, 1])\n",
    "torch.nonzero(x)"
   ]
  },
  {
   "cell_type": "markdown",
   "id": "choice-duplicate",
   "metadata": {},
   "source": [
    "6. Create a random tensor of size (3, 1) and then horizontally stack four copies together."
   ]
  },
  {
   "cell_type": "code",
   "execution_count": 42,
   "id": "operational-incentive",
   "metadata": {},
   "outputs": [
    {
     "name": "stdout",
     "output_type": "stream",
     "text": [
      "type: torch.FloatTensor\n",
      "shape: torch.Size([3, 1])\n",
      "content: \n",
      "tensor([[0.9841],\n",
      "        [0.7930],\n",
      "        [0.9783]])\n"
     ]
    },
    {
     "data": {
      "text/plain": [
       "tensor([[0.9841, 0.9841, 0.9841, 0.9841],\n",
       "        [0.7930, 0.7930, 0.7930, 0.7930],\n",
       "        [0.9783, 0.9783, 0.9783, 0.9783]])"
      ]
     },
     "execution_count": 42,
     "metadata": {},
     "output_type": "execute_result"
    }
   ],
   "source": [
    "x = torch.rand(3, 1)\n",
    "describe(x)\n",
    "x.expand(3, 4)"
   ]
  },
  {
   "cell_type": "markdown",
   "id": "fresh-permission",
   "metadata": {},
   "source": [
    "7. Return the batch matrix-matrix product of two three-dimensional matrices (a = torch.rand(3, 4, 5), b = torch.rand(3, 5, 4))."
   ]
  },
  {
   "cell_type": "code",
   "execution_count": 43,
   "id": "reverse-familiar",
   "metadata": {},
   "outputs": [
    {
     "data": {
      "text/plain": [
       "tensor([[[1.0057, 0.6421, 1.5778, 1.4346],\n",
       "         [1.6272, 0.9316, 2.4996, 2.3747],\n",
       "         [1.3295, 0.9059, 1.7589, 1.7389],\n",
       "         [0.9233, 0.5535, 1.3825, 1.3792]],\n",
       "\n",
       "        [[1.0541, 0.7601, 0.8668, 1.5399],\n",
       "         [0.4817, 0.6680, 0.6459, 0.9785],\n",
       "         [1.1763, 0.3125, 0.8446, 1.3691],\n",
       "         [1.0003, 0.8436, 1.6978, 1.9443]],\n",
       "\n",
       "        [[1.1696, 1.2225, 0.9098, 0.9220],\n",
       "         [0.3667, 0.7257, 0.8861, 0.5578],\n",
       "         [1.0787, 1.3234, 1.2261, 1.0891],\n",
       "         [0.5082, 0.7171, 0.9411, 0.6339]]])"
      ]
     },
     "execution_count": 43,
     "metadata": {},
     "output_type": "execute_result"
    }
   ],
   "source": [
    "a = torch.rand(3, 4, 5)\n",
    "b = torch.rand(3, 5, 4)\n",
    "torch.bmm(a, b)"
   ]
  },
  {
   "cell_type": "markdown",
   "id": "tender-religious",
   "metadata": {},
   "source": [
    "8. Return the batch matrix-matrix product of a 3D matrix and a 2D matrix (a = torch.rand(3, 4, 5), b = torch.rand(5, 4))."
   ]
  },
  {
   "cell_type": "code",
   "execution_count": 44,
   "id": "attempted-poison",
   "metadata": {},
   "outputs": [
    {
     "data": {
      "text/plain": [
       "tensor([[[1.8274, 2.0506, 1.3228, 1.1027],\n",
       "         [1.2329, 1.3479, 1.1746, 0.8145],\n",
       "         [1.1661, 1.4610, 1.1549, 0.7579],\n",
       "         [1.8245, 2.2150, 1.1813, 0.8446]],\n",
       "\n",
       "        [[1.8419, 2.3071, 1.4408, 1.2228],\n",
       "         [0.9800, 1.3729, 0.9908, 0.6773],\n",
       "         [0.9956, 1.5377, 1.0834, 0.8247],\n",
       "         [1.4066, 1.8110, 1.1102, 0.8898]],\n",
       "\n",
       "        [[1.1487, 1.3480, 0.9347, 0.7346],\n",
       "         [1.8230, 2.1747, 1.2654, 1.1364],\n",
       "         [1.9192, 2.2053, 1.0930, 1.0281],\n",
       "         [1.7776, 1.6397, 0.8880, 0.6391]]])"
      ]
     },
     "execution_count": 44,
     "metadata": {},
     "output_type": "execute_result"
    }
   ],
   "source": [
    "a = torch.rand(3, 4, 5)\n",
    "b = torch.rand(5, 4)\n",
    "torch.bmm(a, b.unsqueeze(0).expand(a.size(0), *b.size()))"
   ]
  },
  {
   "cell_type": "code",
   "execution_count": 45,
   "id": "intellectual-james",
   "metadata": {},
   "outputs": [
    {
     "name": "stdout",
     "output_type": "stream",
     "text": [
      "5 4\n"
     ]
    }
   ],
   "source": [
    "print(*b.size())"
   ]
  },
  {
   "cell_type": "markdown",
   "id": "impressed-breakdown",
   "metadata": {},
   "source": [
    "**END**"
   ]
  }
 ],
 "metadata": {
  "kernelspec": {
   "display_name": "Python 3",
   "language": "python",
   "name": "python3"
  },
  "language_info": {
   "codemirror_mode": {
    "name": "ipython",
    "version": 3
   },
   "file_extension": ".py",
   "mimetype": "text/x-python",
   "name": "python",
   "nbconvert_exporter": "python",
   "pygments_lexer": "ipython3",
   "version": "3.7.10"
  }
 },
 "nbformat": 4,
 "nbformat_minor": 5
}
