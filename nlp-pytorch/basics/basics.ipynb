{
 "cells": [
  {
   "cell_type": "code",
   "execution_count": 1,
   "id": "pregnant-harvard",
   "metadata": {},
   "outputs": [
    {
     "data": {
      "text/plain": [
       "<torch._C.Generator at 0x7fcb13662430>"
      ]
     },
     "execution_count": 1,
     "metadata": {},
     "output_type": "execute_result"
    }
   ],
   "source": [
    "import torch\n",
    "import numpy as np\n",
    "\n",
    "torch.manual_seed(42)"
   ]
  },
  {
   "cell_type": "markdown",
   "id": "developed-bolivia",
   "metadata": {},
   "source": [
    "## Creating Tensors"
   ]
  },
  {
   "cell_type": "code",
   "execution_count": 2,
   "id": "miniature-headset",
   "metadata": {},
   "outputs": [],
   "source": [
    "def describe(x):\n",
    "    print(\"type: {}\".format(x.type()))\n",
    "    print(\"shape: {}\".format(x.shape))\n",
    "    print(\"content: \\n{}\".format(x))"
   ]
  },
  {
   "cell_type": "markdown",
   "id": "considered-pitch",
   "metadata": {},
   "source": [
    "#### Create a tensor with torch.Tensor"
   ]
  },
  {
   "cell_type": "code",
   "execution_count": 3,
   "id": "ambient-approach",
   "metadata": {},
   "outputs": [
    {
     "name": "stdout",
     "output_type": "stream",
     "text": [
      "type: torch.FloatTensor\n",
      "shape: torch.Size([2, 3])\n",
      "content: \n",
      "tensor([[0., 0., 0.],\n",
      "        [0., 0., 0.]])\n"
     ]
    }
   ],
   "source": [
    "describe(torch.Tensor(2, 3))"
   ]
  },
  {
   "cell_type": "markdown",
   "id": "comic-review",
   "metadata": {},
   "source": [
    "#### Create a randomly initialized tensor"
   ]
  },
  {
   "cell_type": "code",
   "execution_count": 4,
   "id": "danish-spanish",
   "metadata": {},
   "outputs": [
    {
     "name": "stdout",
     "output_type": "stream",
     "text": [
      "type: torch.FloatTensor\n",
      "shape: torch.Size([2, 3])\n",
      "content: \n",
      "tensor([[0.8823, 0.9150, 0.3829],\n",
      "        [0.9593, 0.3904, 0.6009]])\n"
     ]
    }
   ],
   "source": [
    "describe(torch.rand(2, 3)) # uniform random between [0, 1)"
   ]
  },
  {
   "cell_type": "code",
   "execution_count": 5,
   "id": "ultimate-enhancement",
   "metadata": {},
   "outputs": [
    {
     "name": "stdout",
     "output_type": "stream",
     "text": [
      "type: torch.FloatTensor\n",
      "shape: torch.Size([2, 3])\n",
      "content: \n",
      "tensor([[ 1.1561,  0.3965, -2.4661],\n",
      "        [ 0.3623,  0.3765, -0.1808]])\n"
     ]
    }
   ],
   "source": [
    "describe(torch.randn(2, 3)) # random normal"
   ]
  },
  {
   "cell_type": "markdown",
   "id": "daily-northeast",
   "metadata": {},
   "source": [
    "#### Create a filled tensor\n",
    "- Any PyTorch method with an underscore (_) refers to an in-place operation."
   ]
  },
  {
   "cell_type": "code",
   "execution_count": 6,
   "id": "independent-ghost",
   "metadata": {},
   "outputs": [
    {
     "name": "stdout",
     "output_type": "stream",
     "text": [
      "type: torch.FloatTensor\n",
      "shape: torch.Size([2, 3])\n",
      "content: \n",
      "tensor([[0., 0., 0.],\n",
      "        [0., 0., 0.]])\n",
      "type: torch.FloatTensor\n",
      "shape: torch.Size([2, 3])\n",
      "content: \n",
      "tensor([[1., 1., 1.],\n",
      "        [1., 1., 1.]])\n",
      "type: torch.FloatTensor\n",
      "shape: torch.Size([2, 3])\n",
      "content: \n",
      "tensor([[5., 5., 5.],\n",
      "        [5., 5., 5.]])\n"
     ]
    }
   ],
   "source": [
    "describe(torch.zeros(2, 3))\n",
    "x = torch.ones(2, 3)\n",
    "describe(x)\n",
    "x.fill_(5)\n",
    "describe(x)"
   ]
  },
  {
   "cell_type": "markdown",
   "id": "casual-fault",
   "metadata": {},
   "source": [
    "#### Create a tensor declaratively by using Python lists"
   ]
  },
  {
   "cell_type": "code",
   "execution_count": 7,
   "id": "confident-integral",
   "metadata": {},
   "outputs": [
    {
     "name": "stdout",
     "output_type": "stream",
     "text": [
      "type: torch.FloatTensor\n",
      "shape: torch.Size([2, 3])\n",
      "content: \n",
      "tensor([[1., 2., 3.],\n",
      "        [4., 5., 6.]])\n"
     ]
    }
   ],
   "source": [
    "x = torch.Tensor([[1, 2, 3], [4, 5, 6]])\n",
    "describe(x)"
   ]
  },
  {
   "cell_type": "markdown",
   "id": "organizational-mayor",
   "metadata": {},
   "source": [
    "#### Create a tensor from NumPy\n",
    "- The type of the tensor is DoubleTensor instead of the default FloatTensor.\n",
    "- The ability to convert between NumPy arrays and PyTorch tensors becomes important when working with legacy libraries that use NumPy-formatted numerical values."
   ]
  },
  {
   "cell_type": "code",
   "execution_count": 8,
   "id": "printable-jackson",
   "metadata": {},
   "outputs": [
    {
     "name": "stdout",
     "output_type": "stream",
     "text": [
      "type: torch.DoubleTensor\n",
      "shape: torch.Size([2, 3])\n",
      "content: \n",
      "tensor([[0.8586, 0.9391, 0.3615],\n",
      "        [0.3802, 0.6414, 0.8212]], dtype=torch.float64)\n"
     ]
    }
   ],
   "source": [
    "x_npy = np.random.rand(2, 3)\n",
    "describe(torch.from_numpy(x_npy))"
   ]
  },
  {
   "cell_type": "markdown",
   "id": "false-instrumentation",
   "metadata": {},
   "source": [
    "## Tensor Types and Size"
   ]
  },
  {
   "cell_type": "code",
   "execution_count": 9,
   "id": "intended-raleigh",
   "metadata": {},
   "outputs": [
    {
     "name": "stdout",
     "output_type": "stream",
     "text": [
      "type: torch.FloatTensor\n",
      "shape: torch.Size([2, 3])\n",
      "content: \n",
      "tensor([[1., 2., 3.],\n",
      "        [4., 5., 6.]])\n"
     ]
    }
   ],
   "source": [
    "x = torch.FloatTensor([[1, 2, 3], [4, 5, 6]])\n",
    "describe(x)"
   ]
  },
  {
   "cell_type": "code",
   "execution_count": 10,
   "id": "little-audit",
   "metadata": {},
   "outputs": [
    {
     "name": "stdout",
     "output_type": "stream",
     "text": [
      "type: torch.LongTensor\n",
      "shape: torch.Size([2, 3])\n",
      "content: \n",
      "tensor([[1, 2, 3],\n",
      "        [4, 5, 6]])\n"
     ]
    }
   ],
   "source": [
    "x = x.long()\n",
    "describe(x)"
   ]
  },
  {
   "cell_type": "code",
   "execution_count": 11,
   "id": "skilled-ability",
   "metadata": {},
   "outputs": [
    {
     "name": "stdout",
     "output_type": "stream",
     "text": [
      "type: torch.LongTensor\n",
      "shape: torch.Size([2, 3])\n",
      "content: \n",
      "tensor([[1, 2, 3],\n",
      "        [4, 5, 6]])\n"
     ]
    }
   ],
   "source": [
    "# this is different from torch.Tensor() above.\n",
    "x = torch.tensor([[1, 2, 3], [4, 5, 6]], dtype=torch.int64)\n",
    "describe(x)"
   ]
  },
  {
   "cell_type": "code",
   "execution_count": 12,
   "id": "bulgarian-calgary",
   "metadata": {},
   "outputs": [
    {
     "name": "stdout",
     "output_type": "stream",
     "text": [
      "type: torch.FloatTensor\n",
      "shape: torch.Size([2, 3])\n",
      "content: \n",
      "tensor([[1., 2., 3.],\n",
      "        [4., 5., 6.]])\n"
     ]
    }
   ],
   "source": [
    "x = x.float()\n",
    "describe(x)"
   ]
  },
  {
   "cell_type": "markdown",
   "id": "bigger-bermuda",
   "metadata": {},
   "source": [
    "## Tensor Operations"
   ]
  },
  {
   "cell_type": "markdown",
   "id": "resistant-capacity",
   "metadata": {},
   "source": [
    "#### Tensor addition"
   ]
  },
  {
   "cell_type": "code",
   "execution_count": 13,
   "id": "settled-planet",
   "metadata": {},
   "outputs": [
    {
     "name": "stdout",
     "output_type": "stream",
     "text": [
      "type: torch.FloatTensor\n",
      "shape: torch.Size([2, 3])\n",
      "content: \n",
      "tensor([[ 0.3930,  0.4327, -1.3627],\n",
      "        [ 1.3564,  0.6688, -0.7077]])\n",
      "type: torch.FloatTensor\n",
      "shape: torch.Size([2, 3])\n",
      "content: \n",
      "tensor([[ 0.7861,  0.8654, -2.7254],\n",
      "        [ 2.7129,  1.3376, -1.4154]])\n"
     ]
    }
   ],
   "source": [
    "x = torch.randn(2, 3)\n",
    "describe(x)\n",
    "describe(torch.add(x, x))"
   ]
  },
  {
   "cell_type": "code",
   "execution_count": 14,
   "id": "lesbian-officer",
   "metadata": {},
   "outputs": [
    {
     "name": "stdout",
     "output_type": "stream",
     "text": [
      "type: torch.FloatTensor\n",
      "shape: torch.Size([2, 3])\n",
      "content: \n",
      "tensor([[ 0.7861,  0.8654, -2.7254],\n",
      "        [ 2.7129,  1.3376, -1.4154]])\n"
     ]
    }
   ],
   "source": [
    "describe(x + x)"
   ]
  },
  {
   "cell_type": "markdown",
   "id": "temporal-disability",
   "metadata": {},
   "source": [
    "#### Dimension-based tensor operations"
   ]
  },
  {
   "cell_type": "code",
   "execution_count": 15,
   "id": "understanding-discharge",
   "metadata": {},
   "outputs": [
    {
     "name": "stdout",
     "output_type": "stream",
     "text": [
      "type: torch.LongTensor\n",
      "shape: torch.Size([6])\n",
      "content: \n",
      "tensor([0, 1, 2, 3, 4, 5])\n"
     ]
    }
   ],
   "source": [
    "x = torch.arange(6)\n",
    "describe(x)"
   ]
  },
  {
   "cell_type": "code",
   "execution_count": 16,
   "id": "protective-cartridge",
   "metadata": {},
   "outputs": [
    {
     "name": "stdout",
     "output_type": "stream",
     "text": [
      "type: torch.LongTensor\n",
      "shape: torch.Size([2, 3])\n",
      "content: \n",
      "tensor([[0, 1, 2],\n",
      "        [3, 4, 5]])\n"
     ]
    }
   ],
   "source": [
    "x = x.view(2, 3)\n",
    "describe(x)"
   ]
  },
  {
   "cell_type": "code",
   "execution_count": 17,
   "id": "surrounded-impression",
   "metadata": {},
   "outputs": [
    {
     "name": "stdout",
     "output_type": "stream",
     "text": [
      "type: torch.LongTensor\n",
      "shape: torch.Size([3])\n",
      "content: \n",
      "tensor([3, 5, 7])\n"
     ]
    }
   ],
   "source": [
    "describe(torch.sum(x, dim=0)) # similar to axis=0 in NumPy operation"
   ]
  },
  {
   "cell_type": "code",
   "execution_count": 18,
   "id": "dangerous-scale",
   "metadata": {},
   "outputs": [
    {
     "name": "stdout",
     "output_type": "stream",
     "text": [
      "type: torch.LongTensor\n",
      "shape: torch.Size([2])\n",
      "content: \n",
      "tensor([ 3, 12])\n"
     ]
    }
   ],
   "source": [
    "describe(torch.sum(x, dim=1)) # similar to axis=1 in NumPy operation"
   ]
  },
  {
   "cell_type": "code",
   "execution_count": 19,
   "id": "hindu-blake",
   "metadata": {},
   "outputs": [
    {
     "name": "stdout",
     "output_type": "stream",
     "text": [
      "type: torch.LongTensor\n",
      "shape: torch.Size([3, 2])\n",
      "content: \n",
      "tensor([[0, 3],\n",
      "        [1, 4],\n",
      "        [2, 5]])\n"
     ]
    }
   ],
   "source": [
    "describe(torch.transpose(x, 0, 1))"
   ]
  },
  {
   "cell_type": "markdown",
   "id": "trained-cyprus",
   "metadata": {},
   "source": [
    "A 3D tensor would represent a batch of sequences, where each sequence item has a feature vector. It is common to switch the batch and sequence dimensions so that we can more easily index the sequence in a sequence model.\n",
    "\n",
    "Note: Tranpose allows us to only swap 2 axes. Permutate allows for multiple axes."
   ]
  },
  {
   "cell_type": "markdown",
   "id": "stone-triumph",
   "metadata": {},
   "source": [
    "## Indexing, Slicing, and Joining"
   ]
  },
  {
   "cell_type": "markdown",
   "id": "engaged-gateway",
   "metadata": {},
   "source": [
    "#### Slicing and indexing a tensor"
   ]
  },
  {
   "cell_type": "code",
   "execution_count": 20,
   "id": "resident-prayer",
   "metadata": {},
   "outputs": [
    {
     "name": "stdout",
     "output_type": "stream",
     "text": [
      "type: torch.LongTensor\n",
      "shape: torch.Size([2, 3])\n",
      "content: \n",
      "tensor([[0, 1, 2],\n",
      "        [3, 4, 5]])\n"
     ]
    }
   ],
   "source": [
    "x = torch.arange(6).view(2, 3)\n",
    "describe(x)"
   ]
  },
  {
   "cell_type": "code",
   "execution_count": 21,
   "id": "recovered-corporation",
   "metadata": {},
   "outputs": [
    {
     "name": "stdout",
     "output_type": "stream",
     "text": [
      "type: torch.LongTensor\n",
      "shape: torch.Size([1, 2])\n",
      "content: \n",
      "tensor([[0, 1]])\n"
     ]
    }
   ],
   "source": [
    "describe(x[:1, :2])"
   ]
  },
  {
   "cell_type": "code",
   "execution_count": 22,
   "id": "careful-reception",
   "metadata": {},
   "outputs": [
    {
     "name": "stdout",
     "output_type": "stream",
     "text": [
      "type: torch.LongTensor\n",
      "shape: torch.Size([])\n",
      "content: \n",
      "1\n"
     ]
    }
   ],
   "source": [
    "describe(x[0, 1])"
   ]
  },
  {
   "cell_type": "markdown",
   "id": "sixth-savings",
   "metadata": {},
   "source": [
    "#### Complex indexing: noncontiguous indexing\n",
    "- Indices need to be a LongTensor for indexing using PyTorch functions."
   ]
  },
  {
   "cell_type": "code",
   "execution_count": 23,
   "id": "surprised-latino",
   "metadata": {},
   "outputs": [
    {
     "name": "stdout",
     "output_type": "stream",
     "text": [
      "type: torch.LongTensor\n",
      "shape: torch.Size([2, 2])\n",
      "content: \n",
      "tensor([[0, 2],\n",
      "        [3, 5]])\n"
     ]
    }
   ],
   "source": [
    "indices = torch.LongTensor([0, 2])\n",
    "describe(torch.index_select(x, dim=1, index=indices))"
   ]
  },
  {
   "cell_type": "code",
   "execution_count": 24,
   "id": "encouraging-contrast",
   "metadata": {},
   "outputs": [
    {
     "name": "stdout",
     "output_type": "stream",
     "text": [
      "type: torch.LongTensor\n",
      "shape: torch.Size([2, 3])\n",
      "content: \n",
      "tensor([[0, 1, 2],\n",
      "        [0, 1, 2]])\n"
     ]
    }
   ],
   "source": [
    "indices = torch.LongTensor([0, 0])\n",
    "describe(torch.index_select(x, dim=0, index=indices))"
   ]
  },
  {
   "cell_type": "code",
   "execution_count": 25,
   "id": "humanitarian-knock",
   "metadata": {},
   "outputs": [
    {
     "name": "stdout",
     "output_type": "stream",
     "text": [
      "type: torch.LongTensor\n",
      "shape: torch.Size([2])\n",
      "content: \n",
      "tensor([0, 4])\n"
     ]
    }
   ],
   "source": [
    "row_indices = torch.arange(2).long()\n",
    "col_indices = torch.LongTensor([0, 1])\n",
    "describe(x[row_indices, col_indices])"
   ]
  },
  {
   "cell_type": "markdown",
   "id": "innovative-colleague",
   "metadata": {},
   "source": [
    "#### Concatenating tensors"
   ]
  },
  {
   "cell_type": "code",
   "execution_count": 26,
   "id": "hidden-daily",
   "metadata": {},
   "outputs": [
    {
     "name": "stdout",
     "output_type": "stream",
     "text": [
      "type: torch.LongTensor\n",
      "shape: torch.Size([2, 3])\n",
      "content: \n",
      "tensor([[0, 1, 2],\n",
      "        [3, 4, 5]])\n"
     ]
    }
   ],
   "source": [
    "x = torch.arange(6).view(2, 3)\n",
    "describe(x)"
   ]
  },
  {
   "cell_type": "code",
   "execution_count": 27,
   "id": "spare-franchise",
   "metadata": {},
   "outputs": [
    {
     "name": "stdout",
     "output_type": "stream",
     "text": [
      "type: torch.LongTensor\n",
      "shape: torch.Size([2, 6])\n",
      "content: \n",
      "tensor([[0, 1, 2, 0, 1, 2],\n",
      "        [3, 4, 5, 3, 4, 5]])\n"
     ]
    }
   ],
   "source": [
    "describe(torch.cat([x, x], dim=1))"
   ]
  },
  {
   "cell_type": "code",
   "execution_count": 28,
   "id": "federal-container",
   "metadata": {},
   "outputs": [
    {
     "name": "stdout",
     "output_type": "stream",
     "text": [
      "type: torch.LongTensor\n",
      "shape: torch.Size([2, 2, 3])\n",
      "content: \n",
      "tensor([[[0, 1, 2],\n",
      "         [3, 4, 5]],\n",
      "\n",
      "        [[0, 1, 2],\n",
      "         [3, 4, 5]]])\n"
     ]
    }
   ],
   "source": [
    "describe(torch.stack([x, x]))"
   ]
  },
  {
   "cell_type": "markdown",
   "id": "incorporate-nashville",
   "metadata": {},
   "source": [
    "#### Linear algebra on tensors: multiplication"
   ]
  },
  {
   "cell_type": "code",
   "execution_count": 29,
   "id": "wicked-disclaimer",
   "metadata": {},
   "outputs": [
    {
     "name": "stdout",
     "output_type": "stream",
     "text": [
      "type: torch.FloatTensor\n",
      "shape: torch.Size([2, 3])\n",
      "content: \n",
      "tensor([[0., 1., 2.],\n",
      "        [3., 4., 5.]])\n"
     ]
    }
   ],
   "source": [
    "x1 = torch.arange(6).view(2, 3)\n",
    "x1 = x1.float()\n",
    "describe(x1)"
   ]
  },
  {
   "cell_type": "code",
   "execution_count": 30,
   "id": "divided-bracket",
   "metadata": {},
   "outputs": [
    {
     "name": "stdout",
     "output_type": "stream",
     "text": [
      "type: torch.FloatTensor\n",
      "shape: torch.Size([3, 2])\n",
      "content: \n",
      "tensor([[1., 2.],\n",
      "        [1., 2.],\n",
      "        [1., 2.]])\n"
     ]
    }
   ],
   "source": [
    "x2 = torch.ones(3, 2)\n",
    "x2[:, 1] += 1\n",
    "# x2 = x2.float()\n",
    "describe(x2)"
   ]
  },
  {
   "cell_type": "code",
   "execution_count": 31,
   "id": "prescription-belarus",
   "metadata": {},
   "outputs": [
    {
     "name": "stdout",
     "output_type": "stream",
     "text": [
      "type: torch.FloatTensor\n",
      "shape: torch.Size([2, 2])\n",
      "content: \n",
      "tensor([[ 3.,  6.],\n",
      "        [12., 24.]])\n"
     ]
    }
   ],
   "source": [
    "describe(torch.mm(x1, x2))"
   ]
  },
  {
   "cell_type": "markdown",
   "id": "alive-safety",
   "metadata": {},
   "source": [
    "## Tensors and Computational Graphs\n",
    "\n",
    "- PyTorch tensors handle the bookkeeping needed for building computational graphs for machine learning simply by enabling a Boolean flag at instantiation time.\n",
    "- PyTorch tensor class encapsulates the data (the tensor itself) and a range of operations.\n",
    "- When the **requires_grad** Boolean flag is set to **True** on a tensor, bookkeeping operations are enabled that can track the gradient at the tensor as well as the gradient function, both of which are needed to facilitate the gradient-based learning."
   ]
  },
  {
   "cell_type": "markdown",
   "id": "canadian-native",
   "metadata": {},
   "source": [
    "#### Creating tensors for gradient bookkeeping"
   ]
  },
  {
   "cell_type": "code",
   "execution_count": 32,
   "id": "faced-innocent",
   "metadata": {},
   "outputs": [
    {
     "name": "stdout",
     "output_type": "stream",
     "text": [
      "type: torch.FloatTensor\n",
      "shape: torch.Size([2, 2])\n",
      "content: \n",
      "tensor([[1., 1.],\n",
      "        [1., 1.]], requires_grad=True)\n",
      "True\n"
     ]
    }
   ],
   "source": [
    "x = torch.ones(2, 2, requires_grad=True)\n",
    "describe(x)\n",
    "print(x.grad is None)"
   ]
  },
  {
   "cell_type": "code",
   "execution_count": 33,
   "id": "structural-webster",
   "metadata": {},
   "outputs": [
    {
     "name": "stdout",
     "output_type": "stream",
     "text": [
      "type: torch.FloatTensor\n",
      "shape: torch.Size([2, 2])\n",
      "content: \n",
      "tensor([[21., 21.],\n",
      "        [21., 21.]], grad_fn=<AddBackward0>)\n",
      "True\n"
     ]
    }
   ],
   "source": [
    "y = (x + 2) * (x + 5) + 3\n",
    "describe(y)\n",
    "print(x.grad is None)"
   ]
  },
  {
   "cell_type": "code",
   "execution_count": 34,
   "id": "documented-cheese",
   "metadata": {},
   "outputs": [
    {
     "name": "stdout",
     "output_type": "stream",
     "text": [
      "type: torch.FloatTensor\n",
      "shape: torch.Size([])\n",
      "content: \n",
      "21.0\n",
      "False\n"
     ]
    }
   ],
   "source": [
    "# Let's say this is a loss function\n",
    "z = y.mean()\n",
    "describe(z)\n",
    "z.backward()\n",
    "print(x.grad is None)"
   ]
  },
  {
   "cell_type": "code",
   "execution_count": 35,
   "id": "deluxe-ridge",
   "metadata": {},
   "outputs": [
    {
     "data": {
      "text/plain": [
       "tensor([[2.2500, 2.2500],\n",
       "        [2.2500, 2.2500]])"
      ]
     },
     "execution_count": 35,
     "metadata": {},
     "output_type": "execute_result"
    }
   ],
   "source": [
    "x.grad"
   ]
  },
  {
   "cell_type": "markdown",
   "id": "spoken-cartoon",
   "metadata": {},
   "source": [
    "## Exercises"
   ]
  },
  {
   "cell_type": "markdown",
   "id": "incredible-flour",
   "metadata": {},
   "source": [
    "1. Create a 2D tensor and then add a dimension of size 1 inserted at dimension 0."
   ]
  },
  {
   "cell_type": "code",
   "execution_count": 36,
   "id": "early-narrow",
   "metadata": {},
   "outputs": [
    {
     "name": "stdout",
     "output_type": "stream",
     "text": [
      "type: torch.FloatTensor\n",
      "shape: torch.Size([3, 3])\n",
      "content: \n",
      "tensor([[0.9516, 0.0753, 0.8860],\n",
      "        [0.5832, 0.3376, 0.8090],\n",
      "        [0.5779, 0.9040, 0.5547]])\n",
      "type: torch.FloatTensor\n",
      "shape: torch.Size([1, 3, 3])\n",
      "content: \n",
      "tensor([[[0.9516, 0.0753, 0.8860],\n",
      "         [0.5832, 0.3376, 0.8090],\n",
      "         [0.5779, 0.9040, 0.5547]]])\n"
     ]
    }
   ],
   "source": [
    "x = torch.rand(3, 3)\n",
    "describe(x)\n",
    "x = x.unsqueeze(0)\n",
    "describe(x)"
   ]
  },
  {
   "cell_type": "markdown",
   "id": "guided-charm",
   "metadata": {},
   "source": [
    "2. Remove the extra dimension we just added to the previous tensor."
   ]
  },
  {
   "cell_type": "code",
   "execution_count": 37,
   "id": "funky-repository",
   "metadata": {},
   "outputs": [
    {
     "name": "stdout",
     "output_type": "stream",
     "text": [
      "type: torch.FloatTensor\n",
      "shape: torch.Size([3, 3])\n",
      "content: \n",
      "tensor([[0.9516, 0.0753, 0.8860],\n",
      "        [0.5832, 0.3376, 0.8090],\n",
      "        [0.5779, 0.9040, 0.5547]])\n"
     ]
    }
   ],
   "source": [
    "x = x.squeeze(0)\n",
    "describe(x)"
   ]
  },
  {
   "cell_type": "markdown",
   "id": "organized-married",
   "metadata": {},
   "source": [
    "3. Create a random tensor of shape 5 x 3 in the interval [3, 7)."
   ]
  },
  {
   "cell_type": "code",
   "execution_count": 38,
   "id": "dimensional-external",
   "metadata": {},
   "outputs": [
    {
     "data": {
      "text/plain": [
       "tensor([[4.3693, 5.5374, 4.4576],\n",
       "        [5.8417, 6.7856, 6.1561],\n",
       "        [4.1257, 6.1545, 5.3579],\n",
       "        [6.0157, 3.7810, 3.0202],\n",
       "        [4.2273, 3.4660, 6.6411]])"
      ]
     },
     "execution_count": 38,
     "metadata": {},
     "output_type": "execute_result"
    }
   ],
   "source": [
    "3 + torch.rand(5, 3) * (7 - 3)"
   ]
  },
  {
   "cell_type": "markdown",
   "id": "minus-bouquet",
   "metadata": {},
   "source": [
    "4. Create a tensor with values from a normal distribution (mean=0, std=1)."
   ]
  },
  {
   "cell_type": "code",
   "execution_count": 39,
   "id": "educational-skiing",
   "metadata": {},
   "outputs": [
    {
     "data": {
      "text/plain": [
       "tensor([[ 0.4528,  0.6410,  0.5200],\n",
       "        [ 0.5567,  0.0744,  0.7113],\n",
       "        [-0.5687,  1.2580, -1.5890]])"
      ]
     },
     "execution_count": 39,
     "metadata": {},
     "output_type": "execute_result"
    }
   ],
   "source": [
    "torch.randn(3, 3)"
   ]
  },
  {
   "cell_type": "code",
   "execution_count": 40,
   "id": "medical-living",
   "metadata": {},
   "outputs": [
    {
     "data": {
      "text/plain": [
       "tensor([[-1.1208, -0.2398,  0.2163],\n",
       "        [ 0.5484, -0.4415,  1.5815],\n",
       "        [-0.1981,  0.9554, -1.0902]])"
      ]
     },
     "execution_count": 40,
     "metadata": {},
     "output_type": "execute_result"
    }
   ],
   "source": [
    "x = torch.rand(3, 3)\n",
    "x.normal_()"
   ]
  },
  {
   "cell_type": "markdown",
   "id": "diverse-detroit",
   "metadata": {},
   "source": [
    "5. Retrieve the indexes of all the nonzero elements in the tensor torch.Tensor([1, 1, 1, 0, 1])."
   ]
  },
  {
   "cell_type": "code",
   "execution_count": 41,
   "id": "listed-certificate",
   "metadata": {},
   "outputs": [
    {
     "data": {
      "text/plain": [
       "tensor([[0],\n",
       "        [1],\n",
       "        [2],\n",
       "        [4]])"
      ]
     },
     "execution_count": 41,
     "metadata": {},
     "output_type": "execute_result"
    }
   ],
   "source": [
    "x = torch.Tensor([1, 1, 1, 0, 1])\n",
    "torch.nonzero(x)"
   ]
  },
  {
   "cell_type": "markdown",
   "id": "choice-duplicate",
   "metadata": {},
   "source": [
    "6. Create a random tensor of size (3, 1) and then horizontally stack four copies together."
   ]
  },
  {
   "cell_type": "code",
   "execution_count": 42,
   "id": "operational-incentive",
   "metadata": {},
   "outputs": [
    {
     "name": "stdout",
     "output_type": "stream",
     "text": [
      "type: torch.FloatTensor\n",
      "shape: torch.Size([3, 1])\n",
      "content: \n",
      "tensor([[0.0162],\n",
      "        [0.2137],\n",
      "        [0.6249]])\n"
     ]
    },
    {
     "data": {
      "text/plain": [
       "tensor([[0.0162, 0.0162, 0.0162, 0.0162],\n",
       "        [0.2137, 0.2137, 0.2137, 0.2137],\n",
       "        [0.6249, 0.6249, 0.6249, 0.6249]])"
      ]
     },
     "execution_count": 42,
     "metadata": {},
     "output_type": "execute_result"
    }
   ],
   "source": [
    "x = torch.rand(3, 1)\n",
    "describe(x)\n",
    "x.expand(3, 4)"
   ]
  },
  {
   "cell_type": "markdown",
   "id": "fresh-permission",
   "metadata": {},
   "source": [
    "7. Return the batch matrix-matrix product of two three-dimensional matrices (a = torch.rand(3, 4, 5), b = torch.rand(3, 5, 4))."
   ]
  },
  {
   "cell_type": "code",
   "execution_count": 43,
   "id": "reverse-familiar",
   "metadata": {},
   "outputs": [
    {
     "data": {
      "text/plain": [
       "tensor([[[0.5097, 0.4511, 0.8574, 0.5705],\n",
       "         [0.9305, 0.5039, 0.8319, 1.3060],\n",
       "         [1.0051, 0.2784, 1.0170, 1.0141],\n",
       "         [0.5467, 0.5376, 0.6298, 0.7419]],\n",
       "\n",
       "        [[0.7479, 0.5626, 0.6626, 0.7916],\n",
       "         [1.6845, 1.3342, 1.2485, 1.6060],\n",
       "         [0.9672, 0.6746, 0.8266, 1.0354],\n",
       "         [0.9729, 0.7301, 0.9154, 1.0763]],\n",
       "\n",
       "        [[1.9574, 1.7438, 0.9624, 1.2241],\n",
       "         [1.5675, 1.4571, 1.1658, 1.3175],\n",
       "         [1.8151, 1.3825, 0.5208, 1.0758],\n",
       "         [1.7720, 1.7995, 1.2115, 1.5042]]])"
      ]
     },
     "execution_count": 43,
     "metadata": {},
     "output_type": "execute_result"
    }
   ],
   "source": [
    "a = torch.rand(3, 4, 5)\n",
    "b = torch.rand(3, 5, 4)\n",
    "torch.bmm(a, b)"
   ]
  },
  {
   "cell_type": "markdown",
   "id": "tender-religious",
   "metadata": {},
   "source": [
    "8. Return the batch matrix-matrix product of a 3D matrix and a 2D matrix (a = torch.rand(3, 4, 5), b = torch.rand(5, 4))."
   ]
  },
  {
   "cell_type": "code",
   "execution_count": 44,
   "id": "attempted-poison",
   "metadata": {},
   "outputs": [
    {
     "data": {
      "text/plain": [
       "tensor([[[1.0010, 0.9193, 1.0507, 0.9926],\n",
       "         [0.6734, 0.6293, 0.8083, 0.6839],\n",
       "         [1.2929, 1.5602, 1.4694, 1.1348],\n",
       "         [0.6389, 0.3501, 0.3600, 0.4966]],\n",
       "\n",
       "        [[0.5280, 0.5076, 0.4488, 0.3678],\n",
       "         [0.9482, 0.8499, 0.6884, 0.5953],\n",
       "         [0.6245, 0.7109, 0.7820, 0.5720],\n",
       "         [1.0368, 1.1702, 0.9839, 0.8194]],\n",
       "\n",
       "        [[1.5107, 1.0250, 0.9244, 1.0298],\n",
       "         [0.7812, 0.6688, 0.6384, 0.6752],\n",
       "         [1.1143, 1.4056, 1.2044, 0.8694],\n",
       "         [0.6316, 1.0176, 1.0670, 0.7933]]])"
      ]
     },
     "execution_count": 44,
     "metadata": {},
     "output_type": "execute_result"
    }
   ],
   "source": [
    "a = torch.rand(3, 4, 5)\n",
    "b = torch.rand(5, 4)\n",
    "torch.bmm(a, b.unsqueeze(0).expand(a.size(0), *b.size()))"
   ]
  },
  {
   "cell_type": "code",
   "execution_count": 45,
   "id": "intellectual-james",
   "metadata": {},
   "outputs": [
    {
     "name": "stdout",
     "output_type": "stream",
     "text": [
      "5 4\n"
     ]
    }
   ],
   "source": [
    "print(*b.size())"
   ]
  },
  {
   "cell_type": "markdown",
   "id": "impressed-breakdown",
   "metadata": {},
   "source": [
    "**END**"
   ]
  }
 ],
 "metadata": {
  "kernelspec": {
   "display_name": "Python 3",
   "language": "python",
   "name": "python3"
  },
  "language_info": {
   "codemirror_mode": {
    "name": "ipython",
    "version": 3
   },
   "file_extension": ".py",
   "mimetype": "text/x-python",
   "name": "python",
   "nbconvert_exporter": "python",
   "pygments_lexer": "ipython3",
   "version": "3.7.10"
  }
 },
 "nbformat": 4,
 "nbformat_minor": 5
}
