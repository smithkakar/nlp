{
 "cells": [
  {
   "cell_type": "code",
   "execution_count": 1,
   "metadata": {},
   "outputs": [],
   "source": [
    "import nltk"
   ]
  },
  {
   "cell_type": "code",
   "execution_count": 2,
   "metadata": {},
   "outputs": [
    {
     "name": "stdout",
     "output_type": "stream",
     "text": [
      "*** Introductory Examples for the NLTK Book ***\n",
      "Loading text1, ..., text9 and sent1, ..., sent9\n",
      "Type the name of the text or sentence to view it.\n",
      "Type: 'texts()' or 'sents()' to list the materials.\n",
      "text1: Moby Dick by Herman Melville 1851\n",
      "text2: Sense and Sensibility by Jane Austen 1811\n",
      "text3: The Book of Genesis\n",
      "text4: Inaugural Address Corpus\n",
      "text5: Chat Corpus\n",
      "text6: Monty Python and the Holy Grail\n",
      "text7: Wall Street Journal\n",
      "text8: Personals Corpus\n",
      "text9: The Man Who Was Thursday by G . K . Chesterton 1908\n"
     ]
    }
   ],
   "source": [
    "from nltk.book import *"
   ]
  },
  {
   "cell_type": "code",
   "execution_count": 3,
   "metadata": {},
   "outputs": [],
   "source": [
    "from nltk.corpus import reuters"
   ]
  },
  {
   "cell_type": "code",
   "execution_count": 4,
   "metadata": {},
   "outputs": [
    {
     "data": {
      "text/plain": [
       "16967"
      ]
     },
     "execution_count": 4,
     "metadata": {},
     "output_type": "execute_result"
    }
   ],
   "source": [
    "len(text6)"
   ]
  },
  {
   "cell_type": "code",
   "execution_count": 5,
   "metadata": {},
   "outputs": [
    {
     "data": {
      "text/plain": [
       "2166"
      ]
     },
     "execution_count": 5,
     "metadata": {},
     "output_type": "execute_result"
    }
   ],
   "source": [
    "len(set(text6))"
   ]
  },
  {
   "cell_type": "code",
   "execution_count": 6,
   "metadata": {},
   "outputs": [
    {
     "data": {
      "text/plain": [
       "7.833333333333333"
      ]
     },
     "execution_count": 6,
     "metadata": {},
     "output_type": "execute_result"
    }
   ],
   "source": [
    "len(text6) / len(set(text6))"
   ]
  },
  {
   "cell_type": "code",
   "execution_count": 7,
   "metadata": {},
   "outputs": [],
   "source": [
    "text6_freq = nltk.FreqDist(text6)"
   ]
  },
  {
   "cell_type": "code",
   "execution_count": 8,
   "metadata": {},
   "outputs": [
    {
     "data": {
      "text/plain": [
       "225"
      ]
     },
     "execution_count": 8,
     "metadata": {},
     "output_type": "execute_result"
    }
   ],
   "source": [
    "text6_freq['ARTHUR']"
   ]
  },
  {
   "cell_type": "code",
   "execution_count": 9,
   "metadata": {},
   "outputs": [
    {
     "data": {
      "text/plain": [
       "FreqDist({':': 1197, '.': 816, '!': 801, ',': 731, \"'\": 421, '[': 319, ']': 312, 'the': 299, 'I': 255, 'ARTHUR': 225, ...})"
      ]
     },
     "execution_count": 9,
     "metadata": {},
     "output_type": "execute_result"
    }
   ],
   "source": [
    "text6_freq"
   ]
  },
  {
   "cell_type": "code",
   "execution_count": 10,
   "metadata": {},
   "outputs": [
    {
     "name": "stdout",
     "output_type": "stream",
     "text": [
      "1 13\n"
     ]
    }
   ],
   "source": [
    "text6_word_len = [len(word) for word in text6]\n",
    "print(min(text6_word_len), max(text6_word_len))"
   ]
  },
  {
   "cell_type": "markdown",
   "metadata": {},
   "source": [
    "### How many times do the words lead and smelter occur in text collections, grouped into genre zinc? Consider reuters corpus.\n"
   ]
  },
  {
   "cell_type": "code",
   "execution_count": 11,
   "metadata": {},
   "outputs": [],
   "source": [
    "cfd_reuters = nltk.ConditionalFreqDist([(genre, word) for genre in reuters.categories() for word in reuters.words(categories=genre)])"
   ]
  },
  {
   "cell_type": "code",
   "execution_count": 12,
   "metadata": {},
   "outputs": [
    {
     "name": "stdout",
     "output_type": "stream",
     "text": [
      "        lead smelter \n",
      "zinc      40      33 \n"
     ]
    }
   ],
   "source": [
    "cfd_reuters.tabulate(conditions=['zinc'], samples=['lead', 'smelter'])"
   ]
  },
  {
   "cell_type": "markdown",
   "metadata": {},
   "source": [
    "### How many times do the words tonnes and year occur in text collections, grouped into genre sugar? Consider reuters corpus.\n",
    "\n"
   ]
  },
  {
   "cell_type": "code",
   "execution_count": 13,
   "metadata": {},
   "outputs": [
    {
     "name": "stdout",
     "output_type": "stream",
     "text": [
      "      tonnes   year \n",
      "sugar    355    196 \n"
     ]
    }
   ],
   "source": [
    "cfd_reuters.tabulate(conditions=['sugar'], samples=['tonnes', 'year'])"
   ]
  },
  {
   "cell_type": "markdown",
   "metadata": {},
   "source": [
    "### How many times do the words gasoline and barrels occur in text collections, grouped into genre gas? Consider reuters corpus."
   ]
  },
  {
   "cell_type": "code",
   "execution_count": 14,
   "metadata": {},
   "outputs": [
    {
     "name": "stdout",
     "output_type": "stream",
     "text": [
      "    gasoline  barrels \n",
      "gas       77       64 \n"
     ]
    }
   ],
   "source": [
    "cfd_reuters.tabulate(conditions=['gas'], samples=['gasoline', 'barrels'])"
   ]
  },
  {
   "cell_type": "code",
   "execution_count": 15,
   "metadata": {},
   "outputs": [
    {
     "name": "stdout",
     "output_type": "stream",
     "text": [
      "      sugar \n",
      "sugar   521 \n"
     ]
    }
   ],
   "source": [
    "cfd_reuters.tabulate(conditions=['sugar'], samples=['sugar'])"
   ]
  },
  {
   "cell_type": "markdown",
   "metadata": {},
   "source": [
    "### How many times does the word gas occur in text collections, grouped into genre 'gas'? Consider reuters corpus."
   ]
  },
  {
   "cell_type": "code",
   "execution_count": 16,
   "metadata": {},
   "outputs": [
    {
     "name": "stdout",
     "output_type": "stream",
     "text": [
      "    gas \n",
      "gas  10 \n"
     ]
    }
   ],
   "source": [
    "cfd_reuters.tabulate(conditions=['gas'], samples=['gas'])"
   ]
  },
  {
   "cell_type": "code",
   "execution_count": 17,
   "metadata": {},
   "outputs": [
    {
     "name": "stdout",
     "output_type": "stream",
     "text": [
      "     zinc \n",
      "zinc   70 \n"
     ]
    }
   ],
   "source": [
    "cfd_reuters.tabulate(conditions=['zinc'], samples=['zinc'])"
   ]
  },
  {
   "cell_type": "code",
   "execution_count": 18,
   "metadata": {},
   "outputs": [
    {
     "data": {
      "text/plain": [
       "['Python', 'is', 'cool', '!', '!', '!']"
      ]
     },
     "execution_count": 18,
     "metadata": {},
     "output_type": "execute_result"
    }
   ],
   "source": [
    "nltk.word_tokenize('Python is cool!!!')"
   ]
  },
  {
   "cell_type": "markdown",
   "metadata": {},
   "source": [
    "### What is the frequency of bigram ('HEAD', 'KNIGHT') in text collection text6?"
   ]
  },
  {
   "cell_type": "code",
   "execution_count": 19,
   "metadata": {},
   "outputs": [],
   "source": [
    "text6_bigrams = list(nltk.bigrams(text6))"
   ]
  },
  {
   "cell_type": "code",
   "execution_count": 20,
   "metadata": {},
   "outputs": [
    {
     "data": {
      "text/plain": [
       "29"
      ]
     },
     "execution_count": 20,
     "metadata": {},
     "output_type": "execute_result"
    }
   ],
   "source": [
    "nltk.FreqDist(text6_bigrams)['HEAD', 'KNIGHT']"
   ]
  },
  {
   "cell_type": "markdown",
   "metadata": {},
   "source": [
    "### What is the frequency of bigram ('BLACK', 'KNIGHT') in text collection text6?"
   ]
  },
  {
   "cell_type": "code",
   "execution_count": 21,
   "metadata": {},
   "outputs": [
    {
     "data": {
      "text/plain": [
       "32"
      ]
     },
     "execution_count": 21,
     "metadata": {},
     "output_type": "execute_result"
    }
   ],
   "source": [
    "nltk.FreqDist(text6_bigrams)['BLACK', 'KNIGHT']"
   ]
  },
  {
   "cell_type": "markdown",
   "metadata": {},
   "source": [
    "### Collocations associated with text6?"
   ]
  },
  {
   "cell_type": "code",
   "execution_count": 22,
   "metadata": {},
   "outputs": [
    {
     "name": "stdout",
     "output_type": "stream",
     "text": [
      "BLACK KNIGHT; clop clop; HEAD KNIGHT; mumble mumble; Holy Grail;\n",
      "squeak squeak; FRENCH GUARD; saw saw; Sir Robin; Run away; CARTOON\n",
      "CHARACTER; King Arthur; Iesu domine; Pie Iesu; DEAD PERSON; Round\n",
      "Table; clap clap; OLD MAN; dramatic chord; dona eis\n"
     ]
    }
   ],
   "source": [
    "gen_text6 = nltk.Text(text6)\n",
    "gen_text6.collocations()"
   ]
  },
  {
   "cell_type": "code",
   "execution_count": 23,
   "metadata": {},
   "outputs": [
    {
     "name": "stdout",
     "output_type": "stream",
     "text": [
      "lie\n"
     ]
    }
   ],
   "source": [
    "porter = nltk.PorterStemmer()\n",
    "print(porter.stem('lying'))"
   ]
  },
  {
   "cell_type": "code",
   "execution_count": 24,
   "metadata": {},
   "outputs": [
    {
     "name": "stdout",
     "output_type": "stream",
     "text": [
      "bas\n"
     ]
    }
   ],
   "source": [
    "lancaster = nltk.LancasterStemmer()\n",
    "print(lancaster.stem('basics'))"
   ]
  },
  {
   "cell_type": "code",
   "execution_count": 25,
   "metadata": {},
   "outputs": [
    {
     "name": "stdout",
     "output_type": "stream",
     "text": [
      "pow\n"
     ]
    }
   ],
   "source": [
    "print(lancaster.stem('power'))"
   ]
  },
  {
   "cell_type": "code",
   "execution_count": 26,
   "metadata": {},
   "outputs": [
    {
     "name": "stdout",
     "output_type": "stream",
     "text": [
      "wom\n"
     ]
    }
   ],
   "source": [
    "print(lancaster.stem('women'))"
   ]
  },
  {
   "cell_type": "code",
   "execution_count": 27,
   "metadata": {},
   "outputs": [],
   "source": [
    "from nltk.corpus import brown"
   ]
  },
  {
   "cell_type": "code",
   "execution_count": 28,
   "metadata": {},
   "outputs": [],
   "source": [
    "brown_tagged = brown.tagged_words()"
   ]
  },
  {
   "cell_type": "code",
   "execution_count": 29,
   "metadata": {},
   "outputs": [
    {
     "data": {
      "text/plain": [
       "nltk.corpus.reader.util.ConcatenatedCorpusView"
      ]
     },
     "execution_count": 29,
     "metadata": {},
     "output_type": "execute_result"
    }
   ],
   "source": [
    "type(brown_tagged)"
   ]
  },
  {
   "cell_type": "code",
   "execution_count": 30,
   "metadata": {},
   "outputs": [],
   "source": [
    "from collections import defaultdict, Counter\n",
    "# Keeps words and pos into a dictionary \n",
    "# where the key is a word and\n",
    "# the value is a counter of POS and counts\n",
    "word_tags = defaultdict(Counter)\n",
    "for word, pos in brown.tagged_words():\n",
    "    word_tags[word][pos] +=1"
   ]
  },
  {
   "cell_type": "code",
   "execution_count": 31,
   "metadata": {},
   "outputs": [
    {
     "data": {
      "text/plain": [
       "Counter({'AT': 6725, 'AT-TL': 452, 'AT-HL': 81})"
      ]
     },
     "execution_count": 31,
     "metadata": {},
     "output_type": "execute_result"
    }
   ],
   "source": [
    "word_tags['The']"
   ]
  },
  {
   "cell_type": "code",
   "execution_count": 32,
   "metadata": {},
   "outputs": [],
   "source": [
    "brown_tagged_news = brown.tagged_words(categories='news')"
   ]
  },
  {
   "cell_type": "code",
   "execution_count": 33,
   "metadata": {},
   "outputs": [],
   "source": [
    "word_tags_news = defaultdict(Counter)\n",
    "for word, pos in brown_tagged_news:\n",
    "    word_tags_news[word][pos] +=1"
   ]
  },
  {
   "cell_type": "code",
   "execution_count": 34,
   "metadata": {},
   "outputs": [
    {
     "data": {
      "text/plain": [
       "defaultdict(collections.Counter,\n",
       "            {'The': Counter({'AT': 775, 'AT-TL': 28, 'AT-HL': 3}),\n",
       "             'Fulton': Counter({'NP-TL': 10, 'NP': 4}),\n",
       "             'County': Counter({'NN-TL': 35}),\n",
       "             'Grand': Counter({'JJ-TL': 5, 'FW-JJ-TL': 1}),\n",
       "             'Jury': Counter({'NN-TL': 2}),\n",
       "             'said': Counter({'VBD': 382, 'VBN': 20}),\n",
       "             'Friday': Counter({'NR': 41}),\n",
       "             'an': Counter({'AT': 300}),\n",
       "             'investigation': Counter({'NN': 9}),\n",
       "             'of': Counter({'IN': 2716, 'IN-TL': 128, 'IN-HL': 5}),\n",
       "             \"Atlanta's\": Counter({'NP$': 4}),\n",
       "             'recent': Counter({'JJ': 20}),\n",
       "             'primary': Counter({'NN': 13, 'JJ': 4}),\n",
       "             'election': Counter({'NN': 38}),\n",
       "             'produced': Counter({'VBD': 5, 'VBN': 1}),\n",
       "             '``': Counter({'``': 732}),\n",
       "             'no': Counter({'AT': 104, 'RB': 5}),\n",
       "             'evidence': Counter({'NN': 17}),\n",
       "             \"''\": Counter({\"''\": 702}),\n",
       "             'that': Counter({'CS': 545,\n",
       "                      'WPS': 127,\n",
       "                      'DT': 124,\n",
       "                      'QL': 5,\n",
       "                      'WPO': 1}),\n",
       "             'any': Counter({'DTI': 90}),\n",
       "             'irregularities': Counter({'NNS': 3}),\n",
       "             'took': Counter({'VBD': 47}),\n",
       "             'place': Counter({'NN': 21, 'VB': 4}),\n",
       "             '.': Counter({'.': 4012, '.-HL': 18}),\n",
       "             'jury': Counter({'NN': 43, 'NN-HL': 1}),\n",
       "             'further': Counter({'RBR': 5, 'JJR': 10, 'VB': 1}),\n",
       "             'in': Counter({'IN': 1828, 'RP': 46, 'IN-HL': 17, 'IN-TL': 2}),\n",
       "             'term-end': Counter({'NN': 1}),\n",
       "             'presentments': Counter({'NNS': 1}),\n",
       "             'the': Counter({'AT': 5558, 'AT-TL': 18, 'AT-HL': 4}),\n",
       "             'City': Counter({'NN-TL': 41, 'NN': 2, 'NN-TL-HL': 1}),\n",
       "             'Executive': Counter({'JJ-TL': 2, 'NN-TL': 4}),\n",
       "             'Committee': Counter({'NN-TL': 35, 'NN': 2}),\n",
       "             ',': Counter({',': 5133, ',-HL': 55}),\n",
       "             'which': Counter({'WDT': 244}),\n",
       "             'had': Counter({'HVD': 260, 'HVN': 18, 'HVD-HL': 1}),\n",
       "             'over-all': Counter({'JJ': 2}),\n",
       "             'charge': Counter({'NN': 16, 'VB': 1}),\n",
       "             'deserves': Counter({'VBZ': 3}),\n",
       "             'praise': Counter({'NN': 2}),\n",
       "             'and': Counter({'CC': 2115, 'CC-TL': 25, 'CC-HL': 6}),\n",
       "             'thanks': Counter({'NNS': 5, 'NNS-HL': 1}),\n",
       "             'Atlanta': Counter({'NP-TL': 4, 'NP': 10}),\n",
       "             'for': Counter({'IN': 905,\n",
       "                      'IN-TL': 10,\n",
       "                      'IN-HL': 12,\n",
       "                      'CS': 14,\n",
       "                      'RB': 2}),\n",
       "             'manner': Counter({'NN': 7}),\n",
       "             'was': Counter({'BEDZ': 716, 'BEDZ-HL': 1}),\n",
       "             'conducted': Counter({'VBN': 6, 'VBD': 2}),\n",
       "             'September-October': Counter({'NP': 1}),\n",
       "             'term': Counter({'NN': 13}),\n",
       "             'been': Counter({'BEN': 212}),\n",
       "             'charged': Counter({'VBN': 5, 'VBD': 5, 'VBN-HL': 2}),\n",
       "             'by': Counter({'IN': 493, 'IN-HL': 2, 'IN-TL': 1, 'RB': 1}),\n",
       "             'Superior': Counter({'JJ-TL': 5}),\n",
       "             'Court': Counter({'NN-TL': 25, 'NN-HL': 1}),\n",
       "             'Judge': Counter({'NN-TL': 28}),\n",
       "             'Durwood': Counter({'NP': 1}),\n",
       "             'Pye': Counter({'NP': 1}),\n",
       "             'to': Counter({'TO': 1222,\n",
       "                      'IN': 880,\n",
       "                      'IN-HL': 5,\n",
       "                      'TO-HL': 6,\n",
       "                      'IN-TL': 2,\n",
       "                      'NPS': 1}),\n",
       "             'investigate': Counter({'VB': 3}),\n",
       "             'reports': Counter({'NNS': 9, 'VBZ': 3}),\n",
       "             'possible': Counter({'JJ': 28}),\n",
       "             'hard-fought': Counter({'JJ': 1}),\n",
       "             'won': Counter({'VBN': 6, 'VBD': 18}),\n",
       "             'Mayor-nominate': Counter({'NN-TL': 1}),\n",
       "             'Ivan': Counter({'NP': 2}),\n",
       "             'Allen': Counter({'NP': 7}),\n",
       "             'Jr.': Counter({'NP': 46}),\n",
       "             'Only': Counter({'RB': 5, 'AP': 3}),\n",
       "             'a': Counter({'AT': 1988, 'AT-HL': 3, 'FW-IN': 2}),\n",
       "             'relative': Counter({'JJ': 3}),\n",
       "             'handful': Counter({'NN': 1}),\n",
       "             'such': Counter({'JJ': 51, 'ABL': 18, 'QL': 1}),\n",
       "             'received': Counter({'VBN': 10, 'VBD': 23}),\n",
       "             'considering': Counter({'IN': 1, 'VBG': 1}),\n",
       "             'widespread': Counter({'JJ': 4}),\n",
       "             'interest': Counter({'NN': 32}),\n",
       "             'number': Counter({'NN': 31, 'NN-HL': 1}),\n",
       "             'voters': Counter({'NNS': 12}),\n",
       "             'size': Counter({'NN': 7, 'VB': 1}),\n",
       "             'this': Counter({'DT': 249, 'DT-HL': 1}),\n",
       "             'city': Counter({'NN': 49}),\n",
       "             'it': Counter({'PPS': 222, 'PPO': 141}),\n",
       "             'did': Counter({'DOD': 63}),\n",
       "             'find': Counter({'VB': 16}),\n",
       "             'many': Counter({'AP': 60}),\n",
       "             \"Georgia's\": Counter({'NP$': 7}),\n",
       "             'registration': Counter({'NN': 2}),\n",
       "             'laws': Counter({'NNS': 30}),\n",
       "             'are': Counter({'BER': 327, 'BER-HL': 1}),\n",
       "             'outmoded': Counter({'JJ': 1}),\n",
       "             'or': Counter({'CC': 173}),\n",
       "             'inadequate': Counter({'JJ': 4}),\n",
       "             'often': Counter({'RB': 14}),\n",
       "             'ambiguous': Counter({'JJ': 1}),\n",
       "             'It': Counter({'PPS': 115}),\n",
       "             'recommended': Counter({'VBD': 5, 'VBN': 4}),\n",
       "             'legislators': Counter({'NNS': 8}),\n",
       "             'act': Counter({'VB': 4, 'NN': 15, 'NN-HL': 1}),\n",
       "             'have': Counter({'HV': 265}),\n",
       "             'these': Counter({'DTS': 59}),\n",
       "             'studied': Counter({'VBN': 2, 'VBD': 4, 'VBN-HL': 1}),\n",
       "             'revised': Counter({'VBN': 1, 'VBD': 1}),\n",
       "             'end': Counter({'NN': 18, 'VB': 11}),\n",
       "             'modernizing': Counter({'VBG': 1}),\n",
       "             'improving': Counter({'VBG': 4}),\n",
       "             'them': Counter({'PPO': 96}),\n",
       "             'grand': Counter({'JJ': 13}),\n",
       "             'commented': Counter({'VBD': 6, 'VBN': 1}),\n",
       "             'on': Counter({'IN': 614, 'IN-TL': 7, 'RP': 30, 'IN-HL': 6}),\n",
       "             'other': Counter({'AP': 149}),\n",
       "             'topics': Counter({'NNS': 2}),\n",
       "             'among': Counter({'IN': 24}),\n",
       "             'purchasing': Counter({'VBG': 2, 'NN': 1}),\n",
       "             'departments': Counter({'NNS': 2}),\n",
       "             'well': Counter({'QL': 10, 'RB': 31, 'JJ': 2}),\n",
       "             'operated': Counter({'VBN': 2, 'VBD': 2}),\n",
       "             'follow': Counter({'VB': 12}),\n",
       "             'generally': Counter({'RB': 14}),\n",
       "             'accepted': Counter({'VBN': 3, 'VBD': 1}),\n",
       "             'practices': Counter({'NNS': 6, 'VBZ': 1}),\n",
       "             'inure': Counter({'VB': 1}),\n",
       "             'best': Counter({'JJT': 26, 'RBT': 1, 'JJT-HL': 1, 'VB': 1}),\n",
       "             'both': Counter({'ABX': 56}),\n",
       "             'governments': Counter({'NNS': 5}),\n",
       "             'Merger': Counter({'NN-HL': 1}),\n",
       "             'proposed': Counter({'VBN-HL': 1, 'VBN': 13, 'VBD': 4}),\n",
       "             'However': Counter({'WRB': 10, 'WQL': 1, 'RB': 1}),\n",
       "             'believes': Counter({'VBZ': 8}),\n",
       "             'two': Counter({'CD': 157}),\n",
       "             'offices': Counter({'NNS': 4}),\n",
       "             'should': Counter({'MD': 59}),\n",
       "             'be': Counter({'BE': 525, 'BE-HL': 1}),\n",
       "             'combined': Counter({'VBN': 6, 'VBD': 3}),\n",
       "             'achieve': Counter({'VB': 6}),\n",
       "             'greater': Counter({'JJR': 10}),\n",
       "             'efficiency': Counter({'NN': 2}),\n",
       "             'reduce': Counter({'VB': 8}),\n",
       "             'cost': Counter({'NN': 13, 'VB': 1, 'VBD': 1}),\n",
       "             'administration': Counter({'NN': 52}),\n",
       "             'Purchasing': Counter({'VBG-TL': 1}),\n",
       "             'Department': Counter({'NN-TL': 20}),\n",
       "             'is': Counter({'BEZ': 729, 'BEZ-HL': 3}),\n",
       "             'lacking': Counter({'VBG': 2, 'VBG-HL': 1}),\n",
       "             'experienced': Counter({'VBN': 4}),\n",
       "             'clerical': Counter({'JJ': 4}),\n",
       "             'personnel': Counter({'NNS': 11}),\n",
       "             'as': Counter({'CS': 392, 'QL': 75, 'CS-HL': 1, 'IN': 13}),\n",
       "             'result': Counter({'NN': 29, 'VB': 1}),\n",
       "             'policies': Counter({'NNS': 8}),\n",
       "             'urged': Counter({'VBD': 9, 'VBN-HL': 1, 'VBN': 1}),\n",
       "             'take': Counter({'VB': 48}),\n",
       "             'steps': Counter({'NNS': 8}),\n",
       "             'remedy': Counter({'VB': 1}),\n",
       "             'problem': Counter({'NN': 37, 'NN-HL': 2}),\n",
       "             'Implementation': Counter({'NN': 1}),\n",
       "             'automobile': Counter({'NN': 4}),\n",
       "             'title': Counter({'NN': 3}),\n",
       "             'law': Counter({'NN': 38}),\n",
       "             'also': Counter({'RB': 120}),\n",
       "             'outgoing': Counter({'JJ': 3}),\n",
       "             'next': Counter({'AP': 38, 'IN': 1, 'QL': 1}),\n",
       "             'Legislature': Counter({'NN-TL': 19}),\n",
       "             'provide': Counter({'VB': 24}),\n",
       "             'enabling': Counter({'VBG': 5}),\n",
       "             'funds': Counter({'NNS': 27, 'NNS-HL': 1}),\n",
       "             're-set': Counter({'VB': 1}),\n",
       "             'effective': Counter({'JJ': 15}),\n",
       "             'date': Counter({'NN': 15, 'VB': 1}),\n",
       "             'so': Counter({'CS': 20, 'QL': 36, 'RB': 11}),\n",
       "             'orderly': Counter({'JJ': 3}),\n",
       "             'implementation': Counter({'NN': 1}),\n",
       "             'may': Counter({'MD': 66}),\n",
       "             'effected': Counter({'VBN': 1}),\n",
       "             'swipe': Counter({'NN': 1}),\n",
       "             'at': Counter({'IN': 594, 'IN-HL': 3, 'IN-TL': 1}),\n",
       "             'State': Counter({'NN-TL': 59, 'NN': 4}),\n",
       "             'Welfare': Counter({'NN-TL': 3}),\n",
       "             \"Department's\": Counter({'NN$-TL': 2}),\n",
       "             'handling': Counter({'NN': 1, 'VBG': 2}),\n",
       "             'federal': Counter({'JJ': 35}),\n",
       "             'granted': Counter({'VBN': 5}),\n",
       "             'child': Counter({'NN': 9}),\n",
       "             'welfare': Counter({'NN': 12, 'NN-HL': 1}),\n",
       "             'services': Counter({'NNS': 18}),\n",
       "             'foster': Counter({'JJ': 1}),\n",
       "             'homes': Counter({'NNS': 9}),\n",
       "             'This': Counter({'DT': 70}),\n",
       "             'one': Counter({'CD': 175, 'PN': 9}),\n",
       "             'major': Counter({'JJ': 26, 'NN': 2}),\n",
       "             'items': Counter({'NNS': 4}),\n",
       "             'general': Counter({'JJ': 24, 'NN': 5}),\n",
       "             'assistance': Counter({'NN': 8}),\n",
       "             'program': Counter({'NN': 65, 'VB': 1}),\n",
       "             'but': Counter({'CC': 167, 'IN': 7}),\n",
       "             'has': Counter({'HVZ': 300}),\n",
       "             'seen': Counter({'VBN': 7}),\n",
       "             'fit': Counter({'JJ': 1, 'VB': 1, 'VBN': 1}),\n",
       "             'distribute': Counter({'VB': 2}),\n",
       "             'through': Counter({'IN': 51, 'RP': 3}),\n",
       "             'all': Counter({'ABN': 151, 'QL': 12}),\n",
       "             'counties': Counter({'NNS': 13}),\n",
       "             'state': Counter({'NN': 88, 'VB': 2}),\n",
       "             'with': Counter({'IN': 542, 'IN-HL': 3}),\n",
       "             'exception': Counter({'NN': 4}),\n",
       "             'receives': Counter({'VBZ': 1}),\n",
       "             'none': Counter({'PN': 7}),\n",
       "             'money': Counter({'NN': 29}),\n",
       "             'jurors': Counter({'NNS': 4}),\n",
       "             'they': Counter({'PPSS': 205}),\n",
       "             'realize': Counter({'VB': 4}),\n",
       "             'proportionate': Counter({'JJ': 1}),\n",
       "             'distribution': Counter({'NN': 7}),\n",
       "             'might': Counter({'MD': 36, 'NN': 2}),\n",
       "             'disable': Counter({'VB': 1}),\n",
       "             'our': Counter({'PP$': 55}),\n",
       "             'less': Counter({'QL': 4, 'AP': 5, 'RBR': 1}),\n",
       "             'populous': Counter({'JJ': 3}),\n",
       "             'Nevertheless': Counter({'RB': 1}),\n",
       "             'we': Counter({'PPSS': 77}),\n",
       "             'feel': Counter({'VB': 16, 'NN': 3}),\n",
       "             'future': Counter({'NN': 16, 'JJ': 8, 'NN-HL': 1}),\n",
       "             'receive': Counter({'VB': 15}),\n",
       "             'some': Counter({'DTI': 94, 'DTI-HL': 1}),\n",
       "             'portion': Counter({'NN': 2}),\n",
       "             'available': Counter({'JJ': 10}),\n",
       "             'Failure': Counter({'NN': 2}),\n",
       "             'do': Counter({'DO': 62, 'DO-HL': 1}),\n",
       "             'will': Counter({'MD': 387, 'MD-HL': 1, 'NN': 1}),\n",
       "             'continue': Counter({'VB': 11}),\n",
       "             'disproportionate': Counter({'JJ': 1}),\n",
       "             'burden': Counter({'NN': 2}),\n",
       "             'taxpayers': Counter({'NNS': 5}),\n",
       "             \"ordinary's\": Counter({'NN$': 1}),\n",
       "             'court': Counter({'NN': 26, 'NN-TL': 3}),\n",
       "             'under': Counter({'IN': 82, 'RB': 1}),\n",
       "             'fire': Counter({'NN': 21}),\n",
       "             'its': Counter({'PP$': 174}),\n",
       "             'appointment': Counter({'NN': 8}),\n",
       "             'appraisers': Counter({'NNS': 1}),\n",
       "             'guardians': Counter({'NNS': 2}),\n",
       "             'administrators': Counter({'NNS': 1}),\n",
       "             'awarding': Counter({'NN': 1}),\n",
       "             'fees': Counter({'NNS': 12, 'NNS-HL': 1}),\n",
       "             'compensation': Counter({'NN': 4}),\n",
       "             'Wards': Counter({'NNS-HL': 1}),\n",
       "             'protected': Counter({'VBN-HL': 1}),\n",
       "             'found': Counter({'VBD': 15, 'VBN': 15}),\n",
       "             'incorporated': Counter({'VBN': 1}),\n",
       "             'into': Counter({'IN': 113, 'IN-HL': 1}),\n",
       "             'operating': Counter({'VBG': 4}),\n",
       "             'procedures': Counter({'NNS': 5}),\n",
       "             'recommendations': Counter({'NNS': 6}),\n",
       "             'previous': Counter({'JJ': 11}),\n",
       "             'juries': Counter({'NNS': 1}),\n",
       "             'Bar': Counter({'NN-TL': 2}),\n",
       "             'Association': Counter({'NN-TL': 18}),\n",
       "             'interim': Counter({'NN': 2}),\n",
       "             'citizens': Counter({'NNS': 6}),\n",
       "             'committee': Counter({'NN': 38}),\n",
       "             'These': Counter({'DTS': 11}),\n",
       "             'actions': Counter({'NNS': 6}),\n",
       "             'serve': Counter({'VB': 7}),\n",
       "             'protect': Counter({'VB': 2}),\n",
       "             'fact': Counter({'NN': 25}),\n",
       "             'effect': Counter({'NN': 14, 'VB': 3}),\n",
       "             \"court's\": Counter({'NN$': 1}),\n",
       "             'wards': Counter({'NNS': 1}),\n",
       "             'from': Counter({'IN': 340, 'IN-HL': 4}),\n",
       "             'undue': Counter({'JJ': 2}),\n",
       "             'costs': Counter({'NNS': 17, 'VBZ': 1}),\n",
       "             'appointed': Counter({'VBN': 5, 'VBD': 1}),\n",
       "             'elected': Counter({'VBN': 9, 'VBD': 1, 'VBN-HL': 1}),\n",
       "             'servants': Counter({'NNS': 5}),\n",
       "             'unmeritorious': Counter({'JJ': 1}),\n",
       "             'criticisms': Counter({'NNS': 2}),\n",
       "             'Regarding': Counter({'IN': 1}),\n",
       "             'new': Counter({'JJ': 147, 'JJ-HL': 1}),\n",
       "             'multi-million-dollar': Counter({'JJ': 1}),\n",
       "             'airport': Counter({'NN': 3}),\n",
       "             'when': Counter({'WRB': 128}),\n",
       "             'management': Counter({'NN': 6}),\n",
       "             'takes': Counter({'VBZ': 7}),\n",
       "             'Jan.': Counter({'NP': 11, 'NP-HL': 4}),\n",
       "             '1': Counter({'CD': 40, 'CD-HL': 4, 'CD-TL': 3}),\n",
       "             'eliminate': Counter({'VB': 5}),\n",
       "             'political': Counter({'JJ': 27}),\n",
       "             'influences': Counter({'NNS': 1}),\n",
       "             'not': Counter({'*': 253, '*-HL': 1}),\n",
       "             'elaborate': Counter({'VB': 3}),\n",
       "             'added': Counter({'VBD': 24, 'VBN': 8, 'VBN-HL': 1}),\n",
       "             'there': Counter({'EX': 108, 'RB': 20, 'RB-HL': 3}),\n",
       "             'periodic': Counter({'JJ': 1}),\n",
       "             'surveillance': Counter({'NN': 1}),\n",
       "             'pricing': Counter({'VBG': 2, 'NN': 1}),\n",
       "             'concessionaires': Counter({'NNS': 1}),\n",
       "             'purpose': Counter({'NN': 9}),\n",
       "             'keeping': Counter({'VBG': 4}),\n",
       "             'prices': Counter({'NNS': 19}),\n",
       "             'reasonable': Counter({'JJ': 2}),\n",
       "             'Ask': Counter({'VB-HL': 1}),\n",
       "             'jail': Counter({'NN-HL': 1, 'NN': 5}),\n",
       "             'deputies': Counter({'NNS-HL': 1, 'NNS': 2}),\n",
       "             'On': Counter({'IN': 34}),\n",
       "             'matters': Counter({'NNS': 3}),\n",
       "             ':': Counter({':': 137, ':-HL': 12}),\n",
       "             '(': Counter({'(': 148, '(-HL': 20}),\n",
       "             ')': Counter({')': 151, ')-HL': 20}),\n",
       "             'Four': Counter({'CD': 4, 'CD-HL': 2, 'CD-TL': 3}),\n",
       "             'additional': Counter({'JJ': 14}),\n",
       "             'employed': Counter({'VBN': 5}),\n",
       "             'Jail': Counter({'NN-TL': 2}),\n",
       "             'doctor': Counter({'NN': 3}),\n",
       "             'medical': Counter({'JJ': 18}),\n",
       "             'intern': Counter({'NN': 1}),\n",
       "             'extern': Counter({'NN': 1}),\n",
       "             'night': Counter({'NN': 64}),\n",
       "             'weekend': Counter({'NN': 12}),\n",
       "             'duty': Counter({'NN': 2}),\n",
       "             '2': Counter({'CD': 27, 'CD-TL': 5, 'CD-HL': 1}),\n",
       "             'work': Counter({'VB': 21, 'NN': 45}),\n",
       "             'officials': Counter({'NNS': 12}),\n",
       "             'pass': Counter({'VB': 10, 'NN': 5}),\n",
       "             'legislation': Counter({'NN': 14}),\n",
       "             'permit': Counter({'VB': 5, 'NN': 1}),\n",
       "             'establishment': Counter({'NN': 7}),\n",
       "             'fair': Counter({'JJ': 6, 'NN': 3, 'JJ-HL': 1}),\n",
       "             'equitable': Counter({'JJ': 1}),\n",
       "             'pension': Counter({'NN': 5}),\n",
       "             'plan': Counter({'NN': 42, 'VB': 2, 'NN-HL': 1}),\n",
       "             'employes': Counter({'NNS': 9}),\n",
       "             'praised': Counter({'VBD': 3}),\n",
       "             'operation': Counter({'NN': 15}),\n",
       "             'Police': Counter({'NNS-TL': 4, 'NNS': 4, 'NNS-HL': 1}),\n",
       "             'Tax': Counter({'NN-TL': 5}),\n",
       "             \"Commissioner's\": Counter({'NN$-TL': 1}),\n",
       "             'Office': Counter({'NN-TL': 4}),\n",
       "             'Bellwood': Counter({'NP': 1}),\n",
       "             'Alpharetta': Counter({'NP': 1}),\n",
       "             'prison': Counter({'NN': 7}),\n",
       "             'farms': Counter({'NNS': 3}),\n",
       "             'Grady': Counter({'NP-TL': 4, 'NP': 1}),\n",
       "             'Hospital': Counter({'NN-TL': 19, 'NN': 2}),\n",
       "             'Health': Counter({'NN-TL': 5}),\n",
       "             'Mayor': Counter({'NN-TL': 16, 'NN-TL-HL': 1}),\n",
       "             'William': Counter({'NP': 35, 'NP-TL': 1}),\n",
       "             'B.': Counter({'NP': 29, 'NP-TL': 2}),\n",
       "             'Hartsfield': Counter({'NP': 5}),\n",
       "             'filed': Counter({'VBD': 3, 'VBN': 4}),\n",
       "             'suit': Counter({'NN': 6}),\n",
       "             'divorce': Counter({'NN': 2, 'VB': 1}),\n",
       "             'his': Counter({'PP$': 398, 'PP$$': 1}),\n",
       "             'wife': Counter({'NN': 35}),\n",
       "             'Pearl': Counter({'NP': 1}),\n",
       "             'Williams': Counter({'NP': 14}),\n",
       "             'His': Counter({'PP$': 29}),\n",
       "             'petition': Counter({'NN': 6}),\n",
       "             'mental': Counter({'JJ': 1}),\n",
       "             'cruelty': Counter({'NN': 1}),\n",
       "             'couple': Counter({'NN': 13}),\n",
       "             'married': Counter({'VBN': 8}),\n",
       "             'Aug.': Counter({'NP': 8}),\n",
       "             '1913': Counter({'CD': 2}),\n",
       "             'They': Counter({'PPSS': 62}),\n",
       "             'son': Counter({'NN': 21, 'NN-HL': 1}),\n",
       "             'Berry': Counter({'NP': 5}),\n",
       "             'daughter': Counter({'NN': 26}),\n",
       "             'Mrs.': Counter({'NP': 252, 'NP-HL': 1}),\n",
       "             'J.': Counter({'NP': 41, 'NP-TL': 1}),\n",
       "             'M.': Counter({'NP': 22}),\n",
       "             'Cheshire': Counter({'NP': 1}),\n",
       "             'Griffin': Counter({'NP': 2}),\n",
       "             'Attorneys': Counter({'NNS': 2}),\n",
       "             'mayor': Counter({'NN': 2}),\n",
       "             'amicable': Counter({'JJ': 1}),\n",
       "             'property': Counter({'NN': 16}),\n",
       "             'settlement': Counter({'NN': 3}),\n",
       "             'agreed': Counter({'VBN': 7, 'VBD': 8}),\n",
       "             'upon': Counter({'RB': 5, 'IN': 18}),\n",
       "             'listed': Counter({'VBD': 6, 'VBN': 4}),\n",
       "             \"mayor's\": Counter({'NN$': 4}),\n",
       "             'occupation': Counter({'NN': 4}),\n",
       "             'attorney': Counter({'NN': 17}),\n",
       "             'age': Counter({'NN': 11}),\n",
       "             '71': Counter({'CD': 4}),\n",
       "             \"wife's\": Counter({'NN$': 1}),\n",
       "             '74': Counter({'CD': 3}),\n",
       "             'birth': Counter({'NN': 5}),\n",
       "             'Opelika': Counter({'NP': 1}),\n",
       "             'Ala.': Counter({'NP': 6, 'NP-HL': 1}),\n",
       "             'lived': Counter({'VBN': 1, 'VBD': 2}),\n",
       "             'together': Counter({'RB': 27}),\n",
       "             'man': Counter({'NN': 72}),\n",
       "             'more': Counter({'AP': 122, 'QL': 42, 'RBR': 7}),\n",
       "             'than': Counter({'IN': 70, 'CS': 68}),\n",
       "             'year': Counter({'NN': 137, 'NN-HL': 1}),\n",
       "             'home': Counter({'NR': 53, 'NN': 72, 'NN-HL': 1, 'NR-HL': 1}),\n",
       "             '637': Counter({'CD': 1}),\n",
       "             'E.': Counter({'NP': 32, 'NP-HL': 1, 'JJ-TL': 1}),\n",
       "             'Pelham': Counter({'NP': 5}),\n",
       "             'Rd.': Counter({'NN-TL': 3}),\n",
       "             'Aj': Counter({'NN': 14}),\n",
       "             'Henry': Counter({'NP': 18}),\n",
       "             'L.': Counter({'NP': 25}),\n",
       "             'Bowden': Counter({'NP': 2}),\n",
       "             'brief': Counter({'JJ': 2}),\n",
       "             'interlude': Counter({'NN': 1}),\n",
       "             'since': Counter({'IN': 36, 'CS': 23, 'RB': 2}),\n",
       "             '1937': Counter({'CD': 2}),\n",
       "             'career': Counter({'NN': 10}),\n",
       "             'goes': Counter({'VBZ': 5}),\n",
       "             'back': Counter({'RB': 54, 'VB': 3, 'NN': 11, 'RB-HL': 1}),\n",
       "             'council': Counter({'NN': 19}),\n",
       "             '1923': Counter({'CD': 2}),\n",
       "             'present': Counter({'JJ': 21, 'RB': 7, 'NN': 1, 'VB': 1}),\n",
       "             'office': Counter({'NN': 24}),\n",
       "             'expires': Counter({'VBZ': 1}),\n",
       "             'He': Counter({'PPS': 191}),\n",
       "             'succeeded': Counter({'VBN': 2, 'VBD': 1}),\n",
       "             'who': Counter({'WPS': 268}),\n",
       "             'became': Counter({'VBD': 20}),\n",
       "             'candidate': Counter({'NN': 17}),\n",
       "             'Sept.': Counter({'NP': 6}),\n",
       "             '13': Counter({'CD': 16}),\n",
       "             'after': Counter({'CS': 58, 'IN': 69}),\n",
       "             'announced': Counter({'VBD': 20, 'VBN': 17}),\n",
       "             'he': Counter({'PPS': 451}),\n",
       "             'would': Counter({'MD': 243, 'MD-HL': 1}),\n",
       "             'run': Counter({'VB': 11, 'NN': 20, 'VBN': 4}),\n",
       "             'reelection': Counter({'NN': 1}),\n",
       "             'Georgia': Counter({'NP': 10, 'NP-TL': 7, 'NP-HL': 1}),\n",
       "             'Republicans': Counter({'NPS': 14, 'NPS-HL': 1}),\n",
       "             'getting': Counter({'VBG': 17}),\n",
       "             'strong': Counter({'JJ': 13}),\n",
       "             'encouragement': Counter({'NN': 5}),\n",
       "             'enter': Counter({'VB': 5}),\n",
       "             '1962': Counter({'CD': 5}),\n",
       "             \"governor's\": Counter({'NN$': 4}),\n",
       "             'race': Counter({'NN': 19, 'VB': 1}),\n",
       "             'top': Counter({'JJS': 23, 'NN': 10, 'VB': 1}),\n",
       "             'official': Counter({'NN': 6, 'JJ': 10}),\n",
       "             'Wednesday': Counter({'NR': 22}),\n",
       "             'Robert': Counter({'NP': 28}),\n",
       "             'Snodgrass': Counter({'NP': 1}),\n",
       "             'GOP': Counter({'NN': 4, 'NN-HL': 1}),\n",
       "             'chairman': Counter({'NN': 35}),\n",
       "             'meeting': Counter({'NN': 58, 'VBG': 4}),\n",
       "             'held': Counter({'VBN': 26, 'VBD': 12, 'VBN-HL': 3}),\n",
       "             'Tuesday': Counter({'NR': 43}),\n",
       "             'Blue': Counter({'JJ-TL': 9, 'JJ': 2}),\n",
       "             'Ridge': Counter({'NN-TL': 3}),\n",
       "             'brought': Counter({'VBD': 12, 'VBN': 9}),\n",
       "             'enthusiastic': Counter({'JJ': 3}),\n",
       "             'responses': Counter({'NNS': 1}),\n",
       "             'audience': Counter({'NN': 12}),\n",
       "             'Party': Counter({'NN-TL': 8, 'NN': 1}),\n",
       "             'Chairman': Counter({'NN-TL': 8}),\n",
       "             'James': Counter({'NP': 36, 'NP-TL': 1}),\n",
       "             'W.': Counter({'NP': 37, 'NP-HL': 1}),\n",
       "             'Dorsey': Counter({'NP': 1}),\n",
       "             'enthusiasm': Counter({'NN': 3}),\n",
       "             'picking': Counter({'VBG': 1}),\n",
       "             'up': Counter({'RP': 149, 'RP-HL': 1, 'IN': 18}),\n",
       "             'rally': Counter({'NN': 3}),\n",
       "             '8': Counter({'CD': 21, 'CD-TL': 1}),\n",
       "             'Savannah': Counter({'NP': 1}),\n",
       "             'newly': Counter({'RB': 5, 'JJ': 1}),\n",
       "             'Texas': Counter({'NP': 27, 'NP-HL': 8, 'NP-TL': 13}),\n",
       "             'Sen.': Counter({'NN-TL': 18}),\n",
       "             'John': Counter({'NP': 63, 'NP-HL': 1, 'NP-TL': 1}),\n",
       "             'Tower': Counter({'NP': 1}),\n",
       "             'featured': Counter({'VBN': 3}),\n",
       "             'speaker': Counter({'NN': 4}),\n",
       "             'In': Counter({'IN': 125, 'IN-TL': 2}),\n",
       "             'warned': Counter({'VBN': 1, 'VBD': 1}),\n",
       "             'entering': Counter({'VBG': 5}),\n",
       "             'governor': Counter({'NN': 13}),\n",
       "             'force': Counter({'VB': 3, 'NN': 4}),\n",
       "             'petitions': Counter({'NNS': 5, 'VBZ': 1}),\n",
       "             'out': Counter({'RP': 132, 'IN': 27, 'PP$': 1, 'RP-HL': 1}),\n",
       "             'voting': Counter({'VBG': 7}),\n",
       "             'precincts': Counter({'NNS': 4}),\n",
       "             'obtain': Counter({'VB': 8}),\n",
       "             'signatures': Counter({'NNS': 5}),\n",
       "             'registered': Counter({'VBN': 2}),\n",
       "             'Despite': Counter({'IN': 5}),\n",
       "             'warning': Counter({'VBG': 1, 'NN': 3}),\n",
       "             'unanimous': Counter({'JJ': 2}),\n",
       "             'vote': Counter({'NN': 21, 'VB': 7}),\n",
       "             'according': Counter({'IN': 23}),\n",
       "             'attended': Counter({'VBD': 6, 'VBN': 4}),\n",
       "             'When': Counter({'WRB': 41}),\n",
       "             'crowd': Counter({'NN': 8}),\n",
       "             'asked': Counter({'VBN': 14, 'VBD': 19, 'VBN-HL': 1}),\n",
       "             'whether': Counter({'CS': 18}),\n",
       "             'wanted': Counter({'VBD': 18, 'VBN': 2}),\n",
       "             'wait': Counter({'VB': 2, 'NN': 2}),\n",
       "             'make': Counter({'VB': 43}),\n",
       "             'voted': Counter({'VBD': 9}),\n",
       "             '--': Counter({'--': 300}),\n",
       "             'were': Counter({'BED': 252}),\n",
       "             'dissents': Counter({'NNS': 1}),\n",
       "             'largest': Counter({'JJT': 10}),\n",
       "             'hurdle': Counter({'NN': 1}),\n",
       "             'face': Counter({'VB': 11, 'NN': 8}),\n",
       "             'says': Counter({'VBZ': 28}),\n",
       "             'before': Counter({'CS': 35, 'IN': 43, 'RB': 8}),\n",
       "             'making': Counter({'VBG': 22, 'NN': 3}),\n",
       "             'first': Counter({'OD': 127, 'RB': 15, 'OD-HL': 1}),\n",
       "             'alternative': Counter({'JJ': 2, 'NN': 2}),\n",
       "             'courses': Counter({'NNS': 5}),\n",
       "             'must': Counter({'MD': 49, 'NN': 1}),\n",
       "             'taken': Counter({'VBN': 30}),\n",
       "             'Five': Counter({'CD': 3, 'CD-HL': 1}),\n",
       "             'per': Counter({'IN': 61}),\n",
       "             'cent': Counter({'NN': 51}),\n",
       "             'each': Counter({'DT': 61}),\n",
       "             'county': Counter({'NN': 25, 'NN-TL': 1}),\n",
       "             'sign': Counter({'VB': 6, 'NN': 3}),\n",
       "             'requesting': Counter({'VBG': 1}),\n",
       "             'allowed': Counter({'VBN': 5, 'VBD': 3}),\n",
       "             'names': Counter({'NNS': 6}),\n",
       "             'candidates': Counter({'NNS': 10}),\n",
       "             'ballot': Counter({'NN': 8}),\n",
       "             'hold': Counter({'VB': 9, 'NN': 1}),\n",
       "             'unit': Counter({'NN': 10}),\n",
       "             'system': Counter({'NN': 47}),\n",
       "             'party': Counter({'NN': 32, 'NN-HL': 2}),\n",
       "             'opposes': Counter({'VBZ': 2}),\n",
       "             'platform': Counter({'NN': 2}),\n",
       "             'Sam': Counter({'NP': 13}),\n",
       "             'Caldwell': Counter({'NP': 2}),\n",
       "             'Highway': Counter({'NN-TL': 6}),\n",
       "             'public': Counter({'JJ': 36, 'NN': 15}),\n",
       "             'relations': Counter({'NNS': 15, 'NNS-HL': 1}),\n",
       "             'director': Counter({'NN': 30}),\n",
       "             'resigned': Counter({'VBD': 5}),\n",
       "             'Lt.': Counter({'NN-TL': 1}),\n",
       "             'Gov.': Counter({'NN-TL': 10}),\n",
       "             'Garland': Counter({'NP': 3}),\n",
       "             \"Byrd's\": Counter({'NP$': 1}),\n",
       "             'campaign': Counter({'NN': 15, 'VB': 2}),\n",
       "             \"Caldwell's\": Counter({'NP$': 1}),\n",
       "             'resignation': Counter({'NN': 4}),\n",
       "             'expected': Counter({'VBN': 35, 'VBN-HL': 3, 'VBD': 2}),\n",
       "             'time': Counter({'NN': 97}),\n",
       "             'Rob': Counter({'NP': 1}),\n",
       "             'Ledford': Counter({'NP': 1}),\n",
       "             'Gainesville': Counter({'NP': 1}),\n",
       "             'assistant': Counter({'NN': 9, 'JJ': 1}),\n",
       "             'three': Counter({'CD': 96, 'CD-HL': 1}),\n",
       "             'years': Counter({'NNS': 101, 'NNS-HL': 1}),\n",
       "             'gubernatorial': Counter({'JJ': 6}),\n",
       "             'starts': Counter({'VBZ': 3, 'NNS': 6}),\n",
       "             'become': Counter({'VB': 11, 'VBN': 12}),\n",
       "             'coordinator': Counter({'NN': 5}),\n",
       "             'Byrd': Counter({'NP': 1}),\n",
       "             'wind': Counter({'VB': 2, 'NN': 2}),\n",
       "             '1961': Counter({'CD': 42}),\n",
       "             'session': Counter({'NN': 37}),\n",
       "             'Monday': Counter({'NR': 54}),\n",
       "             'head': Counter({'VB': 6, 'NN': 16, 'JJS': 2}),\n",
       "             'where': Counter({'WRB': 58}),\n",
       "             'highway': Counter({'NN': 7}),\n",
       "             'bond': Counter({'NN': 11}),\n",
       "             'approved': Counter({'VBD': 5, 'VBN': 3}),\n",
       "             'shortly': Counter({'RB': 5}),\n",
       "             'Before': Counter({'IN': 4, 'CS': 3}),\n",
       "             'adjournment': Counter({'NN': 2}),\n",
       "             'afternoon': Counter({'NN': 19}),\n",
       "             'Senate': Counter({'NN-TL': 32}),\n",
       "             'approve': Counter({'VB': 2}),\n",
       "             'study': Counter({'NN': 10, 'VB': 3}),\n",
       "             'allotted': Counter({'VBN': 1, 'VBD': 1}),\n",
       "             'rural': Counter({'JJ': 9}),\n",
       "             'urban': Counter({'JJ': 4}),\n",
       "             'areas': Counter({'NNS': 12}),\n",
       "             'determine': Counter({'VB': 3}),\n",
       "             'what': Counter({'WDT': 76}),\n",
       "             'adjustments': Counter({'NNS': 2}),\n",
       "             'made': Counter({'VBN': 62, 'VBD': 44, 'VBN-HL': 1}),\n",
       "             'Vandiver': Counter({'NP': 4}),\n",
       "             'traditional': Counter({'JJ': 8}),\n",
       "             'visit': Counter({'NN': 3, 'VB': 3}),\n",
       "             'chambers': Counter({'NNS': 2}),\n",
       "             'toward': Counter({'IN': 23}),\n",
       "             'likely': Counter({'RB': 2, 'JJ': 5}),\n",
       "             'mention': Counter({'VB': 6}),\n",
       "             '$100': Counter({'NNS': 7}),\n",
       "             'million': Counter({'CD': 45}),\n",
       "             'issue': Counter({'NN': 24, 'VB': 5, 'NN-HL': 1}),\n",
       "             'earlier': Counter({'RBR': 17, 'JJR': 7}),\n",
       "             'priority': Counter({'NN': 4}),\n",
       "             'item': Counter({'NN': 1}),\n",
       "             'Construction': Counter({'NN-HL': 1, 'NN': 1}),\n",
       "             'bonds': Counter({'NNS-HL': 1, 'NNS': 28}),\n",
       "             'Meanwhile': Counter({'RB': 4}),\n",
       "             'learned': Counter({'VBN': 4, 'VBD': 3}),\n",
       "             'very': Counter({'QL': 30, 'AP': 3}),\n",
       "             'near': Counter({'RB': 1,\n",
       "                      'RB-HL': 1,\n",
       "                      'JJ': 2,\n",
       "                      'IN': 11,\n",
       "                      'QL': 1}),\n",
       "             'being': Counter({'BEG': 56}),\n",
       "             'ready': Counter({'JJ': 12}),\n",
       "             '$30': Counter({'NNS': 1}),\n",
       "             'worth': Counter({'NN': 6, 'JJ': 9}),\n",
       "             'reconstruction': Counter({'NN': 1}),\n",
       "             'go': Counter({'VB': 40, 'NN': 1}),\n",
       "             'courts': Counter({'NNS': 6}),\n",
       "             'friendly': Counter({'JJ': 3}),\n",
       "             'test': Counter({'NN': 13, 'VB': 2}),\n",
       "             'validity': Counter({'NN': 1}),\n",
       "             'then': Counter({'RB': 56}),\n",
       "             'sales': Counter({'NNS': 51}),\n",
       "             'begin': Counter({'VB': 10}),\n",
       "             'contracts': Counter({'NNS': 3, 'VBZ': 1}),\n",
       "             'let': Counter({'VBN': 1, 'VB': 9}),\n",
       "             'repair': Counter({'NN': 2}),\n",
       "             'most': Counter({'QL': 42, 'AP': 29, 'RBT': 3}),\n",
       "             'heavily': Counter({'RB': 3, 'QL': 2}),\n",
       "             'traveled': Counter({'VBN': 1, 'VBD': 1}),\n",
       "             'highways': Counter({'NNS': 3}),\n",
       "             'A': Counter({'AT': 124, 'AT-HL': 2, 'NN': 8, 'AT-TL': 3}),\n",
       "             'source': Counter({'NN': 7}),\n",
       "             '$3': Counter({'NNS': 1}),\n",
       "             '$4': Counter({'NNS': 1}),\n",
       "             'Rural': Counter({'JJ-TL': 2}),\n",
       "             'Roads': Counter({'NNS-TL': 2}),\n",
       "             'Authority': Counter({'NN-TL': 4}),\n",
       "             'road': Counter({'NN': 12}),\n",
       "             'construction': Counter({'NN': 14}),\n",
       "             'revolving': Counter({'VBG-HL': 1, 'VBG': 2}),\n",
       "             'fund': Counter({'NN-HL': 1, 'NN': 11}),\n",
       "             'department': Counter({'NN': 12}),\n",
       "             'apparently': Counter({'RB': 12}),\n",
       "             'intends': Counter({'VBZ': 1}),\n",
       "             'issued': Counter({'VBN': 6, 'VBD': 2}),\n",
       "             'every': Counter({'AT': 25}),\n",
       "             'old': Counter({'JJ': 23}),\n",
       "             'ones': Counter({'NNS': 8}),\n",
       "             'paid': Counter({'VBN': 15, 'VBD': 10}),\n",
       "             'off': Counter({'RP': 48, 'IN': 24, 'RP-HL': 1}),\n",
       "             'tax': Counter({'NN': 51, 'VB': 2}),\n",
       "             'authorities': Counter({'NNS': 7}),\n",
       "             'opened': Counter({'VBD': 7, 'VBN': 2}),\n",
       "             '1958': Counter({'CD': 19}),\n",
       "             'battle': Counter({'NN': 15}),\n",
       "             'against': Counter({'IN': 76, 'IN-TL': 2}),\n",
       "             'issuance': Counter({'NN': 2}),\n",
       "             '$50': Counter({'NNS': 2}),\n",
       "             'roads': Counter({'NNS': 9, 'NNS-HL': 1}),\n",
       "             'Marvin': Counter({'NP': 2}),\n",
       "             'told': Counter({'VBD': 45, 'VBN': 8}),\n",
       "             'Constitution': Counter({'NN-TL': 4}),\n",
       "             'however': Counter({'WRB': 37}),\n",
       "             'consulted': Counter({'VBN': 3, 'VBN-HL': 1}),\n",
       "             'yet': Counter({'RB': 9, 'CC': 1}),\n",
       "             'about': Counter({'IN': 85, 'RB': 49, 'RP': 2}),\n",
       "             'plans': Counter({'NNS': 15, 'NNS-HL': 1, 'VBZ': 6}),\n",
       "             'Schley': Counter({'NP': 1}),\n",
       "             'Rep.': Counter({'NN-TL': 10}),\n",
       "             'D.': Counter({'NP': 24}),\n",
       "             'offer': Counter({'VB': 8, 'NN': 1}),\n",
       "             'resolution': Counter({'NN': 21}),\n",
       "             'House': Counter({'NN-TL': 68,\n",
       "                      'NP-TL-HL': 1,\n",
       "                      'NP': 1,\n",
       "                      'NN-TL-HL': 1}),\n",
       "             'rescind': Counter({'VB': 2}),\n",
       "             \"body's\": Counter({'NN$': 1}),\n",
       "             'action': Counter({'NN': 20}),\n",
       "             'itself': Counter({'PPL': 10}),\n",
       "             '$10': Counter({'NNS': 3}),\n",
       "             'day': Counter({'NN': 61}),\n",
       "             'increase': Counter({'NN': 15, 'VB': 8, 'VB-HL': 1}),\n",
       "             'expense': Counter({'NN': 7}),\n",
       "             'allowances': Counter({'NNS': 3}),\n",
       "             'Sunday': Counter({'NR': 51}),\n",
       "             'research': Counter({'NN': 14, 'NN-HL': 1}),\n",
       "             'done': Counter({'VBN': 24}),\n",
       "             'quickie': Counter({'NN': 1}),\n",
       "             'can': Counter({'MD': 93}),\n",
       "             'repealed': Counter({'VBN': 1}),\n",
       "             'outright': Counter({'RB': 1, 'JJ': 2}),\n",
       "             'notice': Counter({'NN': 4, 'VB': 1}),\n",
       "             'given': Counter({'VBN': 37}),\n",
       "             'reconsideration': Counter({'NN': 2}),\n",
       "             'sought': Counter({'VBN': 3, 'VBD': 2, 'VBN-HL': 1}),\n",
       "             'While': Counter({'CS': 12}),\n",
       "             'emphasizing': Counter({'VBG': 1}),\n",
       "             'technical': Counter({'JJ': 7}),\n",
       "             'details': Counter({'NNS': 3}),\n",
       "             'fully': Counter({'RB': 6}),\n",
       "             'worked': Counter({'VBN': 4, 'VBD': 8}),\n",
       "             'seek': Counter({'VB': 12}),\n",
       "             'set': Counter({'VB': 13,\n",
       "                      'VBN': 23,\n",
       "                      'VBD': 9,\n",
       "                      'VBN-HL': 1,\n",
       "                      'NN': 5}),\n",
       "             'aside': Counter({'RB': 5}),\n",
       "             'privilege': Counter({'NN': 3}),\n",
       "             '87-31': Counter({'CD': 1}),\n",
       "             'similar': Counter({'JJ': 17}),\n",
       "             'passed': Counter({'VBD': 11, 'VBN': 7}),\n",
       "             '29-5': Counter({'CD': 1}),\n",
       "             'As': Counter({'IN': 1, 'CS': 32, 'QL': 3}),\n",
       "             'word': Counter({'NN': 14}),\n",
       "             'offered': Counter({'VBN': 4, 'VBD': 7}),\n",
       "             'pointed': Counter({'VBD': 9}),\n",
       "             'last': Counter({'AP': 154, 'VB': 3, 'NN': 3, 'AP-HL': 1}),\n",
       "             'November': Counter({'NP': 10}),\n",
       "             'rejected': Counter({'VBD': 4, 'VBN': 4}),\n",
       "             'constitutional': Counter({'JJ': 8}),\n",
       "             'amendment': Counter({'NN': 5}),\n",
       "             'allow': Counter({'VB': 5}),\n",
       "             'pay': Counter({'NN': 5, 'VB': 27, 'VB-HL': 1}),\n",
       "             'raises': Counter({'NNS': 3}),\n",
       "             'sessions': Counter({'NNS': 6}),\n",
       "             'veteran': Counter({'JJ': 3, 'NN': 8}),\n",
       "             'Jackson': Counter({'NP-TL': 1, 'NP': 3, 'NP-HL': 1}),\n",
       "             'legislator': Counter({'NN': 2}),\n",
       "             'ask': Counter({'VB': 7}),\n",
       "             'aid': Counter({'NN': 23, 'VB': 2}),\n",
       "             'education': Counter({'NN': 31}),\n",
       "             'something': Counter({'PN': 14}),\n",
       "             'consistently': Counter({'RB': 1}),\n",
       "             'opposed': Counter({'VBN': 6, 'VBD': 3}),\n",
       "             'past': Counter({'NN': 14, 'JJ': 12, 'AP': 5, 'IN': 4}),\n",
       "             'Mac': Counter({'NP': 1}),\n",
       "             'Barber': Counter({'NP': 4, 'NN-HL': 1}),\n",
       "             'Commerce': Counter({'NN-TL': 7}),\n",
       "             'asking': Counter({'VBG': 5}),\n",
       "             'endorse': Counter({'VB': 3}),\n",
       "             'increased': Counter({'VBN': 8, 'VBD': 2}),\n",
       "             'support': Counter({'NN': 21, 'VB': 2, 'NN-HL': 1}),\n",
       "             'provided': Counter({'VBN': 7, 'VBD': 1}),\n",
       "             'expended': Counter({'VBN': 1}),\n",
       "             '13th': Counter({'OD': 5}),\n",
       "             'members': Counter({'NNS': 69}),\n",
       "             'congressional': Counter({'JJ': 6}),\n",
       "             'delegation': Counter({'NN': 3}),\n",
       "             'Washington': Counter({'NP': 30, 'NP-HL': 12, 'NP-TL': 6}),\n",
       "             'like': Counter({'VB': 17,\n",
       "                      'CS': 26,\n",
       "                      'IN': 1,\n",
       "                      'JJ': 1,\n",
       "                      'VB-HL': 1}),\n",
       "             'see': Counter({'VB': 38}),\n",
       "             'But': Counter({'CC': 109}),\n",
       "             'congressmen': Counter({'NNS': 3}),\n",
       "             'specifically': Counter({'RB': 1}),\n",
       "             'him': Counter({'PPO': 93}),\n",
       "             'tossed': Counter({'VBD': 1}),\n",
       "             'hopper': Counter({'NN': 1}),\n",
       "             'formally': Counter({'RB': 7}),\n",
       "             'read': Counter({'VBN': 5, 'VBD': 2, 'VB': 6}),\n",
       "             'event': Counter({'NN': 15}),\n",
       "             'Congress': Counter({'NP': 19, 'NP-HL': 2}),\n",
       "             'does': Counter({'DOZ': 26}),\n",
       "             'Board': Counter({'NN-TL': 15, 'NN': 1, 'NN-HL': 1}),\n",
       "             'Education': Counter({'NN-TL': 14, 'NN': 1}),\n",
       "             'directed': Counter({'VBN': 7, 'VBD': 1}),\n",
       "             'give': Counter({'VB': 32}),\n",
       "             'teacher': Counter({'NN': 9}),\n",
       "             'Colquitt': Counter({'NP-HL': 1, 'NP-TL': 1}),\n",
       "             'After': Counter({'IN': 14, 'CS': 10}),\n",
       "             'long': Counter({'JJ': 25, 'RB': 14}),\n",
       "             'hot': Counter({'JJ': 9}),\n",
       "             'controversy': Counter({'NN': 5}),\n",
       "             'Miller': Counter({'NP-TL': 2, 'NP': 1}),\n",
       "             'school': Counter({'NN': 65}),\n",
       "             'superintendent': Counter({'NN': 9}),\n",
       "             'policeman': Counter({'NN': 2}),\n",
       "             'put': Counter({'VBD': 14, 'VB': 8, 'VBN': 5}),\n",
       "             'coolest': Counter({'JJT': 2}),\n",
       "             'I': Counter({'PPSS': 178, 'NN': 1}),\n",
       "             'ever': Counter({'RB': 32}),\n",
       "             'saw': Counter({'VBD': 14, 'VB': 3}),\n",
       "             'Harry': Counter({'NP': 10}),\n",
       "             'Davis': Counter({'NP': 13}),\n",
       "             'agriculture': Counter({'NN': 2}),\n",
       "             'defeated': Counter({'VBD': 2, 'VBN': 3}),\n",
       "             'Felix': Counter({'NP': 2}),\n",
       "             'Bush': Counter({'NP': 3}),\n",
       "             'principal': Counter({'NN': 4, 'JJS': 5}),\n",
       "             'Democratic': Counter({'JJ-TL': 35, 'JJ': 2}),\n",
       "             '1,119': Counter({'CD': 1}),\n",
       "             'votes': Counter({'NNS': 6, 'VBZ': 1}),\n",
       "             \"Saturday's\": Counter({'NR$': 2}),\n",
       "             'got': Counter({'VBD': 42, 'VBN': 3}),\n",
       "             '402': Counter({'CD': 1}),\n",
       "             'Ordinary': Counter({'NN-TL': 2}),\n",
       "             'Carey': Counter({'NP': 4, 'NP-HL': 1}),\n",
       "             'armed': Counter({'VBN': 7}),\n",
       "             'pistol': Counter({'NN': 3}),\n",
       "             'stood': Counter({'VBD': 4}),\n",
       "             'polls': Counter({'NNS': 3}),\n",
       "             'insure': Counter({'VB': 2}),\n",
       "             'order': Counter({'NN': 17, 'VB': 2}),\n",
       "             'calmest': Counter({'JJT': 1}),\n",
       "             'Policeman': Counter({'NN-TL': 1}),\n",
       "             'Tom': Counter({'NP': 6}),\n",
       "             'Being': Counter({'BEG': 1}),\n",
       "             'just': Counter({'RB': 33, 'JJ': 1, 'QL': 8}),\n",
       "             'church': Counter({'NN': 15, 'NN-HL': 1}),\n",
       "             \"didn't\": Counter({'DOD*': 15}),\n",
       "             'smell': Counter({'VB': 2}),\n",
       "             'drop': Counter({'NN': 4, 'VB': 2}),\n",
       "             'liquor': Counter({'NN': 4}),\n",
       "             'bit': Counter({'NN': 6, 'VBD': 1}),\n",
       "             'trouble': Counter({'NN': 8}),\n",
       "             'leading': Counter({'VBG': 11}),\n",
       "             'quiet': Counter({'JJ': 5}),\n",
       "             'marked': Counter({'VBN': 4}),\n",
       "             'anonymous': Counter({'JJ': 4}),\n",
       "             'midnight': Counter({'NN': 4}),\n",
       "             'phone': Counter({'NN': 5}),\n",
       "             'calls': Counter({'NNS': 7, 'VBZ': 5, 'VBZ-HL': 1}),\n",
       "             'veiled': Counter({'VBN': 3}),\n",
       "             'threats': Counter({'NNS': 1}),\n",
       "             'violence': Counter({'NN': 3}),\n",
       "             'former': Counter({'AP': 27}),\n",
       "             'George': Counter({'NP': 23}),\n",
       "             'P.': Counter({'NP': 15, 'NN-TL': 3}),\n",
       "             'Callan': Counter({'NP': 1}),\n",
       "             'shot': Counter({'VBD': 2, 'NN': 11, 'VBN': 1}),\n",
       "             'himself': Counter({'PPL': 21}),\n",
       "             'death': Counter({'NN': 10}),\n",
       "             'March': Counter({'NP': 27, 'NP-HL': 8, 'NN-TL': 1}),\n",
       "             '18': Counter({'CD': 16, 'CD-HL': 4}),\n",
       "             'four': Counter({'CD': 73}),\n",
       "             'days': Counter({'NNS': 37, 'NNS-HL': 1}),\n",
       "             'post': Counter({'NN': 9, 'VB': 1}),\n",
       "             'dispute': Counter({'NN': 2}),\n",
       "             'board': Counter({'NN': 47}),\n",
       "             'During': Counter({'IN': 5}),\n",
       "             'reportedly': Counter({'RB': 4}),\n",
       "             'telephone': Counter({'NN': 8}),\n",
       "             'too': Counter({'RB': 11, 'QL': 26}),\n",
       "             'subjected': Counter({'VBN': 2}),\n",
       "             'soon': Counter({'RB': 15}),\n",
       "             'scheduled': Counter({'VBD': 1, 'VBN': 13}),\n",
       "             'Many': Counter({'AP': 10, 'AP-HL': 2}),\n",
       "             'local': Counter({'JJ': 34, 'NN': 5}),\n",
       "             'feared': Counter({'VBD': 1}),\n",
       "             'carry': Counter({'VB': 11}),\n",
       "             'gun': Counter({'NN': 2}),\n",
       "             'promised': Counter({'VBD': 4}),\n",
       "             'Sheriff': Counter({'NN-TL': 2}),\n",
       "             'Tabb': Counter({'NP': 1}),\n",
       "             'ordinary': Counter({'NN': 1, 'JJ': 6}),\n",
       "             'good': Counter({'JJ': 45, 'NN': 3, 'RB': 1, 'JJ-HL': 1}),\n",
       "             'promise': Counter({'NN': 1, 'VB': 2}),\n",
       "             'Everything': Counter({'PN': 1}),\n",
       "             'went': Counter({'VBD': 37}),\n",
       "             'real': Counter({'QL': 3, 'JJ': 21}),\n",
       "             'smooth': Counter({'JJ': 1}),\n",
       "             'sheriff': Counter({'NN': 3}),\n",
       "             'There': Counter({'EX': 53, 'RB': 5}),\n",
       "             \"wasn't\": Counter({'BEDZ*': 3}),\n",
       "             'Austin': Counter({'NP-HL': 6, 'NP': 9}),\n",
       "             'approval': Counter({'NN': 8}),\n",
       "             'Price': Counter({'NP': 2, 'NN': 1}),\n",
       "             \"Daniel's\": Counter({'NP$': 1}),\n",
       "             'abandoned': Counter({'VBN': 2, 'VBD': 1}),\n",
       "             'seemed': Counter({'VBD': 12}),\n",
       "             'certain': Counter({'JJ': 18}),\n",
       "             'Thursday': Counter({'NR': 20}),\n",
       "             'despite': Counter({'IN': 11}),\n",
       "             'adamant': Counter({'JJ': 2}),\n",
       "             'protests': Counter({'NNS': 1}),\n",
       "             'bankers': Counter({'NNS': 8}),\n",
       "             'Daniel': Counter({'NP': 5}),\n",
       "             'personally': Counter({'RB': 3}),\n",
       "             'led': Counter({'VBD': 10, 'VBN': 7}),\n",
       "             'fight': Counter({'NN': 10, 'NN-HL': 1, 'VB': 3}),\n",
       "             'measure': Counter({'NN': 12, 'VB': 1}),\n",
       "             'watered': Counter({'VBN': 1}),\n",
       "             'down': Counter({'RP': 40, 'IN': 9, 'RP-HL': 1}),\n",
       "             'considerably': Counter({'RB': 2, 'QL': 3}),\n",
       "             'rejection': Counter({'NN': 3}),\n",
       "             'Legislatures': Counter({'NNS-TL': 1}),\n",
       "             'hearing': Counter({'NN': 10, 'NN-HL': 1, 'VBG': 3}),\n",
       "             'Revenue': Counter({'NN-TL': 4, 'NN-HL': 1}),\n",
       "             'Taxation': Counter({'NN-TL': 1}),\n",
       "             'Under': Counter({'IN': 7, 'JJ-TL': 1}),\n",
       "             'rules': Counter({'NNS': 10, 'NNS-HL': 1}),\n",
       "             'automatically': Counter({'RB': 3}),\n",
       "             'subcommittee': Counter({'NN': 1}),\n",
       "             'week': Counter({'NN': 85, 'NN-HL': 1}),\n",
       "             'questions': Counter({'NNS': 8}),\n",
       "             'taunted': Counter({'VBD': 1}),\n",
       "             'appearing': Counter({'VBG': 1}),\n",
       "             'witnesses': Counter({'NNS': 7}),\n",
       "             'left': Counter({'VBD': 16, 'VBN': 6, 'JJ': 10, 'NR': 7}),\n",
       "             'little': Counter({'AP': 15, 'JJ': 10, 'QL': 10}),\n",
       "             'doubt': Counter({'NN': 5, 'NN-HL': 1}),\n",
       "             'recommend': Counter({'VB': 4}),\n",
       "             'passage': Counter({'NN': 3}),\n",
       "             'termed': Counter({'VBD': 2, 'VBN': 1, 'VBN-HL': 1}),\n",
       "             'extremely': Counter({'RB': 1, 'QL': 1}),\n",
       "             'conservative': Counter({'JJ': 5}),\n",
       "             'estimate': Counter({'NN': 2, 'VB': 1}),\n",
       "             'produce': Counter({'VB': 7}),\n",
       "             '17': Counter({'CD': 8, 'CD-HL': 6}),\n",
       "             'dollars': Counter({'NNS': 15}),\n",
       "             'help': Counter({'VB': 16, 'NN': 12, 'NN-HL': 1, 'VB-HL': 1}),\n",
       "             'erase': Counter({'VB': 1}),\n",
       "             'anticipated': Counter({'VBN': 4}),\n",
       "             'deficit': Counter({'NN': 1}),\n",
       "             '63': Counter({'CD': 1}),\n",
       "             'current': Counter({'JJ': 13}),\n",
       "             'fiscal': Counter({'JJ': 5}),\n",
       "             '31': Counter({'CD': 6}),\n",
       "             'merely': Counter({'RB': 12, 'QL': 3}),\n",
       "             'means': Counter({'NNS': 13, 'VBZ': 5}),\n",
       "             'enforcing': Counter({'VBG': 1}),\n",
       "             'escheat': Counter({'NN': 2}),\n",
       "             'books': Counter({'NNS': 12}),\n",
       "             'republic': Counter({'NN': 1}),\n",
       "             'permits': Counter({'VBZ': 3, 'NNS': 1}),\n",
       "             'over': Counter({'RP': 26, 'IN': 86, 'IN-HL': 3}),\n",
       "             'bank': Counter({'NN': 11}),\n",
       "             'accounts': Counter({'NNS': 2}),\n",
       "             'stocks': Counter({'NNS': 9, 'NNS-HL': 1}),\n",
       "             'personal': Counter({'JJ': 12}),\n",
       "             'persons': Counter({'NNS': 24}),\n",
       "             'missing': Counter({'VBG': 3}),\n",
       "             'seven': Counter({'CD': 14, 'CD-HL': 2}),\n",
       "             'bill': Counter({'NN': 45}),\n",
       "             'drafted': Counter({'VBD': 1}),\n",
       "             'banks': Counter({'NNS': 4}),\n",
       "             'insurance': Counter({'NN': 4}),\n",
       "             'firms': Counter({'NNS': 15}),\n",
       "             'pipeline': Counter({'NN': 2}),\n",
       "             'companies': Counter({'NNS': 18}),\n",
       "             'corporations': Counter({'NNS': 2}),\n",
       "             'report': Counter({'VB': 5, 'NN': 19, 'VB-HL': 1}),\n",
       "             'treasurer': Counter({'NN': 6}),\n",
       "             'cannot': Counter({'MD*': 15}),\n",
       "             'enforced': Counter({'VBN': 3}),\n",
       "             'now': Counter({'RB': 76}),\n",
       "             'because': Counter({'CS': 40, 'RB': 11}),\n",
       "             'almost': Counter({'RB': 17, 'QL': 7}),\n",
       "             'impossible': Counter({'JJ': 4}),\n",
       "             'locate': Counter({'VB': 1}),\n",
       "             'declared': Counter({'VBD': 13, 'VBN': 2}),\n",
       "             'Dewey': Counter({'NP': 1}),\n",
       "             'Lawrence': Counter({'NP': 10, 'NP-TL': 2}),\n",
       "             'Tyler': Counter({'NP': 2}),\n",
       "             'lawyer': Counter({'NN': 9}),\n",
       "             'representing': Counter({'VBG': 8}),\n",
       "             'Bankers': Counter({'NNS-TL': 3}),\n",
       "             'sounded': Counter({'VBD': 1}),\n",
       "             'opposition': Counter({'NN': 8}),\n",
       "             'keynote': Counter({'NN': 1, 'VB': 2}),\n",
       "             'violate': Counter({'VB': 2}),\n",
       "             'their': Counter({'PP$': 219}),\n",
       "             'contractual': Counter({'JJ': 1}),\n",
       "             'obligations': Counter({'NNS': 4}),\n",
       "             'depositors': Counter({'NNS': 1}),\n",
       "             'undermine': Counter({'VB': 1}),\n",
       "             'confidence': Counter({'NN': 6}),\n",
       "             'customers': Counter({'NNS': 7}),\n",
       "             'If': Counter({'CS': 29}),\n",
       "             'you': Counter({'PPSS': 39, 'PPO': 16}),\n",
       "             'destroy': Counter({'VB': 5}),\n",
       "             'economy': Counter({'NN': 9}),\n",
       "             'You': Counter({'PPSS': 11}),\n",
       "             'circulation': Counter({'NN': 2}),\n",
       "             'millions': Counter({'NNS': 9}),\n",
       "             'Charles': Counter({'NP': 21, 'NP-TL': 1}),\n",
       "             'Hughes': Counter({'NP': 21, 'NP-TL': 1}),\n",
       "             'Sherman': Counter({'NP': 7, 'NP-TL': 2}),\n",
       "             'sponsor': Counter({'NN': 2, 'VB': 2}),\n",
       "             'failure': Counter({'NN': 5}),\n",
       "             'enact': Counter({'VB': 1}),\n",
       "             'amount': Counter({'VB': 8, 'NN': 10}),\n",
       "             'gift': Counter({'NN': 5}),\n",
       "             \"taxpayers'\": Counter({'NNS$': 2}),\n",
       "             'pockets': Counter({'NNS': 2}),\n",
       "             'contention': Counter({'NN': 2}),\n",
       "             'denied': Counter({'VBN': 4, 'VBD': 1}),\n",
       "             'several': Counter({'AP': 34}),\n",
       "             'including': Counter({'IN': 25}),\n",
       "             'Scott': Counter({'NP': 3}),\n",
       "             'Hudson': Counter({'NP': 2}),\n",
       "             'Gaynor': Counter({'NP': 1}),\n",
       "             'Jones': Counter({'NP': 19, 'NP-HL': 1, 'NP-TL': 2}),\n",
       "             'Houston': Counter({'NP': 15}),\n",
       "             'Brady': Counter({'NP': 1}),\n",
       "             'Harlingen': Counter({'NP': 1}),\n",
       "             'Howard': Counter({'NP': 12, 'NP-TL': 1}),\n",
       "             'Cox': Counter({'NP': 4}),\n",
       "             'argued': Counter({'VBD': 6, 'VBN': 1}),\n",
       "             'probably': Counter({'RB': 19}),\n",
       "             'unconstitutional': Counter({'JJ': 1}),\n",
       "             'impair': Counter({'VB': 1}),\n",
       "             'complained': Counter({'VBD': 4}),\n",
       "             'enough': Counter({'AP': 15, 'AP-HL': 1, 'QLP': 11}),\n",
       "             'introduced': Counter({'VBN': 4, 'VBD': 6}),\n",
       "             'only': Counter({'RB': 46, 'AP': 53, 'JJ': 2, 'QL': 2}),\n",
       "             'Senators': Counter({'NNS': 1, 'NNS-TL': 3}),\n",
       "             'unanimously': Counter({'RB': 2}),\n",
       "             'Parkhouse': Counter({'NP': 5}),\n",
       "             'Dallas': Counter({'NP': 37, 'NP-TL': 11, 'NP-HL': 1}),\n",
       "             'authorizing': Counter({'VBG': 2}),\n",
       "             'schools': Counter({'NNS': 36, 'NNS-HL': 1}),\n",
       "             'deaf': Counter({'JJ': 5}),\n",
       "             'designed': Counter({'VBN': 16}),\n",
       "             'special': Counter({'JJ': 37, 'JJ-HL': 4}),\n",
       "             'schooling': Counter({'NN': 1, 'VBG': 1}),\n",
       "             ...})"
      ]
     },
     "execution_count": 34,
     "metadata": {},
     "output_type": "execute_result"
    }
   ],
   "source": [
    "word_tags_news"
   ]
  },
  {
   "cell_type": "code",
   "execution_count": 35,
   "metadata": {},
   "outputs": [
    {
     "data": {
      "text/plain": [
       "FreqDist({('the', 'AT'): 5558, (',', ','): 5133, ('.', '.'): 4012, ('of', 'IN'): 2716, ('and', 'CC'): 2115, ('a', 'AT'): 1988, ('in', 'IN'): 1828, ('to', 'TO'): 1222, ('for', 'IN'): 905, ('to', 'IN'): 880, ...})"
      ]
     },
     "execution_count": 35,
     "metadata": {},
     "output_type": "execute_result"
    }
   ],
   "source": [
    "nltk.FreqDist(brown_tagged_news)"
   ]
  },
  {
   "cell_type": "code",
   "execution_count": 36,
   "metadata": {},
   "outputs": [
    {
     "name": "stdout",
     "output_type": "stream",
     "text": [
      "[' is', ' cool']\n"
     ]
    }
   ],
   "source": [
    "import re\n",
    "s = 'Python is cool!!!'\n",
    "print(re.findall(r'\\s\\w+\\b', s))"
   ]
  },
  {
   "cell_type": "markdown",
   "metadata": {},
   "source": [
    "### END"
   ]
  }
 ],
 "metadata": {
  "kernelspec": {
   "display_name": "Python 3",
   "language": "python",
   "name": "python3"
  },
  "language_info": {
   "codemirror_mode": {
    "name": "ipython",
    "version": 3
   },
   "file_extension": ".py",
   "mimetype": "text/x-python",
   "name": "python",
   "nbconvert_exporter": "python",
   "pygments_lexer": "ipython3",
   "version": "3.7.10"
  }
 },
 "nbformat": 4,
 "nbformat_minor": 4
}
