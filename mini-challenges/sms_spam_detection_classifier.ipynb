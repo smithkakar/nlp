{
 "cells": [
  {
   "cell_type": "markdown",
   "metadata": {},
   "source": [
    "# SMS Spam Detection using NLTK and Scikit-Learn"
   ]
  },
  {
   "cell_type": "code",
   "execution_count": 1,
   "metadata": {},
   "outputs": [],
   "source": [
    "import pandas as pd\n",
    "import csv\n",
    "import nltk"
   ]
  },
  {
   "cell_type": "code",
   "execution_count": 2,
   "metadata": {},
   "outputs": [],
   "source": [
    "messages = [line.rstrip() for line in open('../data/SMSSpamCollection.csv')]"
   ]
  },
  {
   "cell_type": "code",
   "execution_count": 3,
   "metadata": {},
   "outputs": [
    {
     "name": "stdout",
     "output_type": "stream",
     "text": [
      "5574\n"
     ]
    }
   ],
   "source": [
    "print(len(messages))"
   ]
  },
  {
   "cell_type": "code",
   "execution_count": 4,
   "metadata": {},
   "outputs": [],
   "source": [
    "messages = pd.read_csv('../data/SMSSpamCollection.csv', sep='\\t', quoting=csv.QUOTE_NONE, names=[\"label\", \"message\"])"
   ]
  },
  {
   "cell_type": "markdown",
   "metadata": {},
   "source": [
    "### Basic Data Analysis"
   ]
  },
  {
   "cell_type": "code",
   "execution_count": 5,
   "metadata": {},
   "outputs": [
    {
     "name": "stdout",
     "output_type": "stream",
     "text": [
      "(5574, 2)\n"
     ]
    }
   ],
   "source": [
    "data_size=messages.shape\n",
    "print(data_size)"
   ]
  },
  {
   "cell_type": "code",
   "execution_count": 6,
   "metadata": {},
   "outputs": [
    {
     "name": "stdout",
     "output_type": "stream",
     "text": [
      "['label', 'message']\n"
     ]
    }
   ],
   "source": [
    "messages_col_names=list(messages.columns)\n",
    "print(messages_col_names)"
   ]
  },
  {
   "cell_type": "code",
   "execution_count": 7,
   "metadata": {},
   "outputs": [
    {
     "name": "stdout",
     "output_type": "stream",
     "text": [
      "      message                                                               \n",
      "        count unique                                                top freq\n",
      "label                                                                       \n",
      "ham      4827   4518                             Sorry, I'll call later   30\n",
      "spam      747    653  Please call our customer service representativ...    4\n"
     ]
    }
   ],
   "source": [
    "print(messages.groupby('label').describe())"
   ]
  },
  {
   "cell_type": "code",
   "execution_count": 8,
   "metadata": {},
   "outputs": [
    {
     "name": "stdout",
     "output_type": "stream",
     "text": [
      "  label                                            message\n",
      "0   ham  Go until jurong point, crazy.. Available only ...\n",
      "1   ham                      Ok lar... Joking wif u oni...\n",
      "2  spam  Free entry in 2 a wkly comp to win FA Cup fina...\n"
     ]
    }
   ],
   "source": [
    "print(messages.head(3))"
   ]
  },
  {
   "cell_type": "code",
   "execution_count": 9,
   "metadata": {},
   "outputs": [
    {
     "name": "stdout",
     "output_type": "stream",
     "text": [
      "0        ham\n",
      "1        ham\n",
      "2       spam\n",
      "3        ham\n",
      "4        ham\n",
      "        ... \n",
      "5569    spam\n",
      "5570     ham\n",
      "5571     ham\n",
      "5572     ham\n",
      "5573     ham\n",
      "Name: label, Length: 5574, dtype: object\n"
     ]
    }
   ],
   "source": [
    "message_target=messages['label'] \n",
    "print(message_target)"
   ]
  },
  {
   "cell_type": "markdown",
   "metadata": {},
   "source": [
    "#### Tokenization is a method to split a sentence/string into substrings. These substrings are called tokens.\n",
    "\n",
    "In Natural Language Processing (NLP), tokenization is the initial step in preprocessing. Splitting a sentence into tokens helps to remove unwanted information in the raw text such as white spaces, line breaks and so on."
   ]
  },
  {
   "cell_type": "code",
   "execution_count": 10,
   "metadata": {},
   "outputs": [],
   "source": [
    "# nltk.download('all')\n",
    "from nltk.tokenize import word_tokenize\n",
    "def split_tokens(message):\n",
    "    message = message.lower()\n",
    "#     message = message.decode('utf-8') #convert bytes into proper unicode\n",
    "    word_tokens = word_tokenize(message)\n",
    "    return word_tokens"
   ]
  },
  {
   "cell_type": "code",
   "execution_count": 11,
   "metadata": {},
   "outputs": [],
   "source": [
    "messages['tokenized_message'] = messages.apply(lambda row: split_tokens(row['message']), axis=1)"
   ]
  },
  {
   "cell_type": "markdown",
   "metadata": {},
   "source": [
    "#### Lemmatization is a method to convert a word into its base/root form.\n",
    "\n",
    "Lemmatizer removes affixes of the words present in its dictionary."
   ]
  },
  {
   "cell_type": "code",
   "execution_count": 12,
   "metadata": {},
   "outputs": [],
   "source": [
    "from nltk.stem.wordnet import WordNetLemmatizer\n",
    "def split_into_lemmas(message):\n",
    "    lemma = []\n",
    "    lemmatizer = WordNetLemmatizer()\n",
    "    for word in message:\n",
    "        a=lemmatizer.lemmatize(word)\n",
    "        lemma.append(a)\n",
    "    return lemma"
   ]
  },
  {
   "cell_type": "code",
   "execution_count": 13,
   "metadata": {},
   "outputs": [
    {
     "name": "stdout",
     "output_type": "stream",
     "text": [
      "Tokenized message: ['six', 'chances', 'to', 'win', 'cash', '!', 'from', '100', 'to', '20,000', 'pounds', 'txt', '>', 'csh11', 'and', 'send', 'to', '87575.', 'cost', '150p/day', ',', '6days', ',', '16+', 'tsandcs', 'apply', 'reply', 'hl', '4', 'info']\n",
      "Lemmatized message: ['six', 'chance', 'to', 'win', 'cash', '!', 'from', '100', 'to', '20,000', 'pound', 'txt', '>', 'csh11', 'and', 'send', 'to', '87575.', 'cost', '150p/day', ',', '6days', ',', '16+', 'tsandcs', 'apply', 'reply', 'hl', '4', 'info']\n"
     ]
    }
   ],
   "source": [
    "messages['lemmatized_message'] = messages.apply(lambda row: split_into_lemmas(row['tokenized_message']),axis=1)\n",
    "print('Tokenized message:',messages['tokenized_message'][11])\n",
    "print('Lemmatized message:',messages['lemmatized_message'][11])"
   ]
  },
  {
   "cell_type": "markdown",
   "metadata": {},
   "source": [
    "#### Stop words are commons words that do not add any relevance for classification (For eg. “the”, “a”, “an”, “in” etc.). Hence, it is essential to remove these words."
   ]
  },
  {
   "cell_type": "code",
   "execution_count": 14,
   "metadata": {},
   "outputs": [],
   "source": [
    "from nltk.corpus import stopwords\n",
    "def stopword_removal(message):\n",
    "    stop_words = set(stopwords.words('english'))\n",
    "    filtered_sentence = []\n",
    "    filtered_sentence = ' '.join([word for word in message if word not in stop_words])\n",
    "    return filtered_sentence"
   ]
  },
  {
   "cell_type": "code",
   "execution_count": 15,
   "metadata": {},
   "outputs": [],
   "source": [
    "messages['preprocessed_message'] = messages.apply(lambda row: stopword_removal(row['lemmatized_message']),axis=1)\n",
    "Training_data=pd.Series(list(messages['preprocessed_message']))\n",
    "Training_label=pd.Series(list(messages['label']))"
   ]
  },
  {
   "cell_type": "markdown",
   "metadata": {},
   "source": [
    " #### Bag Of Words(BOW)\n",
    "\n",
    " - Bag of Words (BOW) is one of the most widely used methods for generating features in Natural Language Processing.\n",
    " - Representing/ Transforming a text into a bag of words helps to identify various measures to characterize the text.\n",
    " - Predominantly used for calculating the term (word) frequency or the number of times a term occurs in a document/sentence.\n",
    " - It can be used as a feature for training the classifier.\n",
    " \n",
    "#### Term Document Matrix\n",
    "\n",
    " - The Term Document Matrix (TDM) is a matrix that contains the frequency of occurrence of terms in a collection of documents.\n",
    " - In this matrix, the rows represent terms and columns represent the documents."
   ]
  },
  {
   "cell_type": "code",
   "execution_count": 16,
   "metadata": {},
   "outputs": [],
   "source": [
    "from sklearn.feature_extraction.text import CountVectorizer, TfidfVectorizer\n",
    "tf_vectorizer = CountVectorizer(ngram_range=(1, 2), min_df = (1/len(Training_label)), max_df = 0.7)\n",
    "Total_Dictionary_TDM = tf_vectorizer.fit(Training_data)\n",
    "message_data_TDM = Total_Dictionary_TDM.transform(Training_data)"
   ]
  },
  {
   "cell_type": "markdown",
   "metadata": {},
   "source": [
    "#### Term Frequency Inverse Document Frequency (TFIDF)\n",
    "\n",
    " - In a Term Frequency Inverse Document Frequency (TFIDF) matrix, the term importance is expressed by Inverse Document Frequency (IDF).\n",
    " - IDF diminishes the weight of the most commonly occurring words and increases the weightage of rare words.\n",
    "\n"
   ]
  },
  {
   "cell_type": "code",
   "execution_count": 17,
   "metadata": {},
   "outputs": [],
   "source": [
    "from sklearn.feature_extraction.text import CountVectorizer,TfidfVectorizer\n",
    "tfidf_vectorizer = TfidfVectorizer(ngram_range=(1, 2),min_df = (1/len(Training_label)), max_df = 0.7)\n",
    "Total_Dictionary_TFIDF = tfidf_vectorizer.fit(Training_data)\n",
    "message_data_TFIDF = Total_Dictionary_TFIDF.transform(Training_data)"
   ]
  },
  {
   "cell_type": "markdown",
   "metadata": {},
   "source": [
    "#### Below example will cover classification using Term Document Matrix Dataset"
   ]
  },
  {
   "cell_type": "code",
   "execution_count": 18,
   "metadata": {},
   "outputs": [],
   "source": [
    "seed=7"
   ]
  },
  {
   "cell_type": "code",
   "execution_count": 19,
   "metadata": {},
   "outputs": [],
   "source": [
    "from sklearn.model_selection import train_test_split # splitting the data for training and testing\n",
    "train_data, test_data, train_label, test_label = train_test_split(message_data_TDM, Training_label, test_size=.1, random_state=seed)"
   ]
  },
  {
   "cell_type": "code",
   "execution_count": 20,
   "metadata": {},
   "outputs": [
    {
     "name": "stdout",
     "output_type": "stream",
     "text": [
      "Decision Tree Classifier :  0.9695340501792115\n"
     ]
    }
   ],
   "source": [
    "from sklearn.tree import DecisionTreeClassifier # creating a decision classifier model\n",
    "classifier=DecisionTreeClassifier() # model training\n",
    "classifier = classifier.fit(train_data, train_label) # after being fitted, the model can then be used to predict the output.\n",
    "message_predicted_target = classifier.predict(test_data)\n",
    "score = classifier.score(test_data, test_label)\n",
    "print('Decision Tree Classifier : ', score)"
   ]
  },
  {
   "cell_type": "markdown",
   "metadata": {},
   "source": [
    "#### Stochastic Gradient Descent Classifier\n",
    "\n",
    "- This is used for large scale learning.\n",
    "- This classifier supports different loss functions & penalties for classification."
   ]
  },
  {
   "cell_type": "code",
   "execution_count": 21,
   "metadata": {},
   "outputs": [
    {
     "name": "stdout",
     "output_type": "stream",
     "text": [
      "SGD classifier :  0.9695340501792115\n"
     ]
    }
   ],
   "source": [
    "from sklearn.linear_model import SGDClassifier\n",
    "classifier = SGDClassifier(loss='modified_huber', shuffle=True, random_state=seed)\n",
    "classifier = classifier.fit(train_data, train_label)\n",
    "message_predicted_target = classifier.predict(test_data)\n",
    "score = classifier.score(test_data, test_label)\n",
    "print('SGD classifier : ', score)"
   ]
  },
  {
   "cell_type": "markdown",
   "metadata": {},
   "source": [
    "#### Support Vector Machine\n",
    "\n",
    "Support Vector Machine(SVM) is effective in high-dimensional spaces.\n",
    "\n",
    "- This is effective in cases where the number of dimensions is greater than the number of samples.\n",
    "- This works well with a clear margin of separation."
   ]
  },
  {
   "cell_type": "code",
   "execution_count": 22,
   "metadata": {},
   "outputs": [
    {
     "name": "stdout",
     "output_type": "stream",
     "text": [
      "SVM Classifier :  0.9767025089605734\n"
     ]
    }
   ],
   "source": [
    "from sklearn.svm import SVC\n",
    "classifier = SVC(kernel=\"linear\", C=0.025, random_state=seed)\n",
    "classifier = classifier.fit(train_data, train_label)\n",
    "message_predicted_target = classifier.predict(test_data)\n",
    "score = classifier.score(test_data, test_label)\n",
    "print('SVM Classifier : ',score)"
   ]
  },
  {
   "cell_type": "markdown",
   "metadata": {},
   "source": [
    "#### Random Forest Classifier\n",
    "\n",
    "- Controls over-fitting.\n",
    "- Here, a random forest fits a number of decision tree classifiers on various sub-samples of the dataset and uses averaging to improve the predictive accuracy."
   ]
  },
  {
   "cell_type": "code",
   "execution_count": 23,
   "metadata": {},
   "outputs": [
    {
     "name": "stdout",
     "output_type": "stream",
     "text": [
      "Random Forest Classifier :  0.8566308243727598\n"
     ]
    }
   ],
   "source": [
    "from sklearn.ensemble import RandomForestClassifier\n",
    "classifier = RandomForestClassifier(max_depth=5, n_estimators=10, max_features=10, random_state=seed)\n",
    "classifier = classifier.fit(train_data, train_label)\n",
    "message_predicted_target = classifier.predict(test_data)\n",
    "score = classifier.score(test_data, test_label)\n",
    "print('Random Forest Classifier : ', score)"
   ]
  },
  {
   "cell_type": "code",
   "execution_count": 24,
   "metadata": {},
   "outputs": [
    {
     "name": "stdout",
     "output_type": "stream",
     "text": [
      "Random Forest classification after model tuning 0.8566308243727598\n"
     ]
    }
   ],
   "source": [
    "# Model Tuning\n",
    "\n",
    "classifier = RandomForestClassifier(max_depth=5, n_estimators=15, max_features=60, random_state=seed)\n",
    "classifier = classifier.fit(train_data, train_label)\n",
    "message_predicted_target = classifier.predict(test_data)\n",
    "score=classifier.score(test_data, test_label)\n",
    "print('Random Forest classification after model tuning', score)"
   ]
  },
  {
   "cell_type": "code",
   "execution_count": 25,
   "metadata": {},
   "outputs": [
    {
     "name": "stdout",
     "output_type": "stream",
     "text": [
      "StratifiedShuffleSplit(n_splits=1, random_state=7, test_size=0.1,\n",
      "            train_size=None)\n"
     ]
    }
   ],
   "source": [
    "# Stratified Shuffle Split to handle class imbalance\n",
    "seed=7\n",
    "from sklearn.model_selection import StratifiedShuffleSplit\n",
    "# cross validation with 10% sample size\n",
    "sss = StratifiedShuffleSplit(n_splits=1, test_size=0.1, random_state=seed)\n",
    "sss.get_n_splits(message_data_TDM, Training_label)\n",
    "print(sss)"
   ]
  },
  {
   "cell_type": "code",
   "execution_count": 26,
   "metadata": {},
   "outputs": [
    {
     "name": "stdout",
     "output_type": "stream",
     "text": [
      "0.9623655913978495\n",
      "0.967741935483871\n",
      "0.9695340501792115\n",
      "0.9014336917562724\n",
      "0.974910394265233\n",
      "0.8655913978494624\n"
     ]
    }
   ],
   "source": [
    "from sklearn.neighbors import KNeighborsClassifier\n",
    "from sklearn.multiclass import OneVsRestClassifier\n",
    "from sklearn import svm\n",
    "classifiers = [\n",
    "    DecisionTreeClassifier(),\n",
    "    SGDClassifier(loss='modified_huber', shuffle=True),\n",
    "    SVC(kernel=\"linear\", C=0.025),\n",
    "    KNeighborsClassifier(),\n",
    "    OneVsRestClassifier(svm.LinearSVC()),\n",
    "    RandomForestClassifier(max_depth=5, n_estimators=10, max_features=10),\n",
    "   ]\n",
    "for clf in classifiers:\n",
    "    score=0\n",
    "    for train_index, test_index in sss.split(message_data_TDM,Training_label):\n",
    "        X_train, X_test = message_data_TDM [train_index], message_data_TDM [test_index]\n",
    "        y_train, y_test = Training_label[train_index], Training_label[test_index]\n",
    "        clf.fit(X_train, y_train)\n",
    "        score=score+clf.score(X_test, y_test)\n",
    "    print(score)"
   ]
  },
  {
   "cell_type": "code",
   "execution_count": 27,
   "metadata": {},
   "outputs": [
    {
     "name": "stdout",
     "output_type": "stream",
     "text": [
      "Accuracy Score 0.8566308243727598\n"
     ]
    },
    {
     "data": {
      "text/plain": [
       "ham     478\n",
       "spam     80\n",
       "dtype: int64"
      ]
     },
     "execution_count": 27,
     "metadata": {},
     "output_type": "execute_result"
    }
   ],
   "source": [
    "from sklearn.metrics import accuracy_score\n",
    "print('Accuracy Score', accuracy_score(test_label, message_predicted_target))  \n",
    "classifier = classifier.fit(train_data, train_label)\n",
    "score=classifier.score(test_data, test_label)\n",
    "test_label.value_counts()"
   ]
  },
  {
   "cell_type": "code",
   "execution_count": 28,
   "metadata": {},
   "outputs": [
    {
     "name": "stdout",
     "output_type": "stream",
     "text": [
      "Confusion Matrix \n",
      " [[478   0]\n",
      " [ 80   0]]\n"
     ]
    }
   ],
   "source": [
    "from sklearn.metrics import confusion_matrix\n",
    "print('Confusion Matrix \\n', confusion_matrix(test_label,message_predicted_target))"
   ]
  },
  {
   "cell_type": "code",
   "execution_count": 29,
   "metadata": {},
   "outputs": [
    {
     "name": "stdout",
     "output_type": "stream",
     "text": [
      "              precision    recall  f1-score   support\n",
      "\n",
      "        spam       0.86      1.00      0.92       478\n",
      "         ham       0.00      0.00      0.00        80\n",
      "\n",
      "    accuracy                           0.86       558\n",
      "   macro avg       0.43      0.50      0.46       558\n",
      "weighted avg       0.73      0.86      0.79       558\n",
      "\n"
     ]
    },
    {
     "name": "stderr",
     "output_type": "stream",
     "text": [
      "/Users/smithkakar/.conda/envs/ds/lib/python3.7/site-packages/sklearn/metrics/_classification.py:1248: UndefinedMetricWarning: Precision and F-score are ill-defined and being set to 0.0 in labels with no predicted samples. Use `zero_division` parameter to control this behavior.\n",
      "  _warn_prf(average, modifier, msg_start, len(result))\n",
      "/Users/smithkakar/.conda/envs/ds/lib/python3.7/site-packages/sklearn/metrics/_classification.py:1248: UndefinedMetricWarning: Precision and F-score are ill-defined and being set to 0.0 in labels with no predicted samples. Use `zero_division` parameter to control this behavior.\n",
      "  _warn_prf(average, modifier, msg_start, len(result))\n",
      "/Users/smithkakar/.conda/envs/ds/lib/python3.7/site-packages/sklearn/metrics/_classification.py:1248: UndefinedMetricWarning: Precision and F-score are ill-defined and being set to 0.0 in labels with no predicted samples. Use `zero_division` parameter to control this behavior.\n",
      "  _warn_prf(average, modifier, msg_start, len(result))\n"
     ]
    }
   ],
   "source": [
    "from sklearn.metrics import classification_report\n",
    "target_names = ['spam', 'ham']\n",
    "print(classification_report(test_label, message_predicted_target, target_names=target_names))"
   ]
  },
  {
   "cell_type": "markdown",
   "metadata": {},
   "source": [
    "### END"
   ]
  }
 ],
 "metadata": {
  "kernelspec": {
   "display_name": "Python 3",
   "language": "python",
   "name": "python3"
  },
  "language_info": {
   "codemirror_mode": {
    "name": "ipython",
    "version": 3
   },
   "file_extension": ".py",
   "mimetype": "text/x-python",
   "name": "python",
   "nbconvert_exporter": "python",
   "pygments_lexer": "ipython3",
   "version": "3.7.10"
  }
 },
 "nbformat": 4,
 "nbformat_minor": 4
}
